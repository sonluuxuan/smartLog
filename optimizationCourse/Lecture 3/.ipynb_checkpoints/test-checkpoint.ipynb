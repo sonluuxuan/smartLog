{
 "cells": [
  {
   "cell_type": "code",
   "execution_count": 16,
   "metadata": {},
   "outputs": [
    {
     "name": "stdout",
     "output_type": "stream",
     "text": [
      "21\n",
      "(1, 6)\n"
     ]
    }
   ],
   "source": [
    "x = [1 2 3]\n",
    "y = [4 5 6]\n",
    "println(sum([x[:] y[:]]))\n",
    "println(size([x y]))"
   ]
  },
  {
   "cell_type": "code",
   "execution_count": 18,
   "metadata": {},
   "outputs": [
    {
     "name": "stdout",
     "output_type": "stream",
     "text": [
      "[90 91 92 18 18 28 28 28 28 29 30 31 32]\n",
      "(13,)\n"
     ]
    },
    {
     "data": {
      "text/latex": [
       "$$ \\begin{alignat*}{1}\\min\\quad & 90 x_{1} + 91 x_{2} + 92 x_{3} + 18 y_{1} + 18 y_{2} + 28 z_{1} + 28 z_{2} + 28 z_{3} + 28 z_{4} + 29 z_{5} + 30 z_{6} + 31 z_{7} + 32 z_{8}\\\\\n",
       "\\text{Subject to} \\quad & x_{1} \\geq 0.0\\\\\n",
       " & x_{2} \\geq 0.0\\\\\n",
       " & x_{3} \\geq 0.0\\\\\n",
       " & y_{1} \\geq 0.0\\\\\n",
       " & y_{2} \\geq 0.0\\\\\n",
       " & z_{1} \\geq 0.0\\\\\n",
       " & z_{2} \\geq 0.0\\\\\n",
       " & z_{3} \\geq 0.0\\\\\n",
       " & z_{4} \\geq 0.0\\\\\n",
       " & z_{5} \\geq 0.0\\\\\n",
       " & z_{6} \\geq 0.0\\\\\n",
       " & z_{7} \\geq 0.0\\\\\n",
       " & z_{8} \\geq 0.0\\\\\n",
       " & w_{1} \\geq 0.0\\\\\n",
       " & w_{2} \\geq 0.0\\\\\n",
       " & w_{3} \\geq 0.0\\\\\n",
       " & w_{4} \\geq 0.0\\\\\n",
       " & w_{5} \\geq 0.0\\\\\n",
       " & w_{6} \\geq 0.0\\\\\n",
       " & w_{7} \\geq 0.0\\\\\n",
       " & w_{8} \\geq 0.0\\\\\n",
       " & w_{9} \\geq 0.0\\\\\n",
       " & w_{10} \\geq 0.0\\\\\n",
       " & w_{11} \\geq 0.0\\\\\n",
       " & w_{1} = 0.0\\\\\n",
       " & x_{1} + 0.8 z_{1} - w_{1} + w_{2} \\geq 10.0\\\\\n",
       " & x_{1} + x_{2} + 0.8 z_{1} + 0.8 z_{2} - w_{2} + w_{3} \\geq 11.0\\\\\n",
       " & x_{1} + x_{2} + x_{3} + 0.8 z_{1} + 0.8 z_{2} + 0.8 z_{3} - w_{3} + w_{4} \\geq 15.0\\\\\n",
       " & x_{1} + x_{2} + x_{3} + 0.8 z_{1} + 0.8 z_{2} + 0.8 z_{3} + 0.8 z_{4} - w_{4} + w_{5} \\geq 20.0\\\\\n",
       " & x_{2} + x_{3} + 0.8 z_{2} + 0.8 z_{3} + 0.8 z_{4} + 0.8 z_{5} - w_{5} + w_{6} \\geq 25.0\\\\\n",
       " & x_{1} + x_{3} + 0.8 z_{3} + 0.8 z_{4} + 0.8 z_{5} + 0.8 z_{6} - w_{6} + w_{7} \\geq 28.0\\\\\n",
       " & x_{1} + x_{2} + 0.8 z_{4} + 0.8 z_{5} + 0.8 z_{6} + 0.8 z_{7} - w_{7} + w_{8} \\geq 32.0\\\\\n",
       " & x_{1} + x_{2} + x_{3} + 0.8 z_{5} + 0.8 z_{6} + 0.8 z_{7} + 0.8 z_{8} - w_{8} + w_{9} \\geq 50.0\\\\\n",
       " & x_{1} + x_{2} + x_{3} + 0.8 z_{6} + 0.8 z_{7} + 0.8 z_{8} - w_{9} + w_{10} \\geq 30.0\\\\\n",
       " & x_{2} + x_{3} + y_{1} + 0.8 z_{7} + 0.8 z_{8} - w_{10} + w_{11} \\geq 20.0\\\\\n",
       " & x_{3} + y_{2} + 0.8 z_{8} - w_{11} \\geq 8.0\\\\\n",
       " & x_{1} + z_{1} \\leq 35.0\\\\\n",
       " & x_{1} + x_{2} + z_{1} + z_{2} \\leq 35.0\\\\\n",
       " & x_{1} + x_{2} + x_{3} + z_{1} + z_{2} + z_{3} \\leq 35.0\\\\\n",
       " & x_{1} + x_{2} + x_{3} + z_{1} + z_{2} + z_{3} + z_{4} \\leq 35.0\\\\\n",
       " & x_{2} + x_{3} + z_{2} + z_{3} + z_{4} + z_{5} \\leq 35.0\\\\\n",
       " & x_{1} + x_{3} + z_{3} + z_{4} + z_{5} + z_{6} \\leq 35.0\\\\\n",
       " & x_{1} + x_{2} + z_{4} + z_{5} + z_{6} + z_{7} \\leq 35.0\\\\\n",
       " & x_{1} + x_{2} + x_{3} + z_{5} + z_{6} + z_{7} + z_{8} \\leq 35.0\\\\\n",
       " & x_{1} + x_{2} + x_{3} + z_{6} + z_{7} + z_{8} \\leq 35.0\\\\\n",
       " & x_{2} + x_{3} + y_{1} + z_{7} + z_{8} \\leq 35.0\\\\\n",
       " & y_{2} + x_{3} + z_{8} \\leq 35.0\\\\\n",
       " & y_{1} - x_{2} - x_{3} - z_{7} - z_{8} \\leq 0.0\\\\\n",
       " & y_{2} - x_{3} - z_{8} \\leq 0.0\\\\\n",
       "\\end{alignat*}\n",
       " $$"
      ],
      "text/plain": [
       "A JuMP Model\n",
       "Minimization problem with:\n",
       "Variables: 24\n",
       "Objective function type: GenericAffExpr{Float64,VariableRef}\n",
       "`VariableRef`-in-`MathOptInterface.GreaterThan{Float64}`: 24 constraints\n",
       "`GenericAffExpr{Float64,VariableRef}`-in-`MathOptInterface.EqualTo{Float64}`: 1 constraint\n",
       "`GenericAffExpr{Float64,VariableRef}`-in-`MathOptInterface.GreaterThan{Float64}`: 11 constraints\n",
       "`GenericAffExpr{Float64,VariableRef}`-in-`MathOptInterface.LessThan{Float64}`: 13 constraints\n",
       "Model mode: AUTOMATIC\n",
       "CachingOptimizer state: EMPTY_OPTIMIZER\n",
       "Solver name: GLPK\n",
       "Names registered in the model: w, x, y, z"
      ]
     },
     "execution_count": 18,
     "metadata": {},
     "output_type": "execute_result"
    }
   ],
   "source": [
    "using JuMP, GLPK, LinearAlgebra\n",
    "#your code goes here\n",
    "m = Model(with_optimizer(GLPK.Optimizer))\n",
    "arrivals = [10 11 15 20 25 28 32 50 30 20 8]        # check arrivals at hour: 11->21\n",
    "pro = [1 0.8]                                       # checks done per hour of each type of worker (in thoudsands)\n",
    "pay = [90 91 92 18 18 28 28 28 28 29 30 31 32]\n",
    "@variable(m, x[1:3] >= 0)                           # number of full-time employees start at 11 12 13 \n",
    "@variable(m, y[1:2] >= 0)                           # number of overtime employees start at 11 12\n",
    "@variable(m, z[1:8] >= 0)                           # number of part-time employees start at 11 -> 18\n",
    "@variable(m, w[1:11] >= 0)                          # unconpleted checks at 11->21, w[11] & w[21] == 0\n",
    "\n",
    "@constraint(m, w[1] == 0)\n",
    "\n",
    "@constraint(m, x[1] + z[1] <= 35)                        # 11:00      machine number constraint\n",
    "@constraint(m, sum(x[1:2]) + sum(z[1:2]) <= 35)          # 12:00\n",
    "@constraint(m, sum(x[1:3]) + sum(z[1:3]) <= 35)          # 13:00\n",
    "@constraint(m, sum(x[1:3]) + sum(z[1:4]) <= 35)          # 14:00\n",
    "@constraint(m, sum(x[2:3]) + sum(z[2:5]) <= 35)          # 15:00\n",
    "@constraint(m, sum([x[1] x[3]]) + sum(z[3:6]) <= 35)      # 16:00\n",
    "@constraint(m, sum(x[1:2]) + sum(z[4:7]) <= 35)          # 17:00\n",
    "@constraint(m, sum(x[1:3]) + sum(z[5:8]) <= 35)          # 18:00\n",
    "@constraint(m, sum(x[1:3]) + sum(z[6:8]) <= 35)          # 19:00\n",
    "@constraint(m, sum(x[2:3]) + y[1] + sum(z[7:8]) <= 35)   # 20:00\n",
    "@constraint(m, y[2] + x[3] + z[8] <= 35)                  # 21:00\n",
    "\n",
    "@constraint(m, y[1] <= sum(x[2:3]) + sum(z[7:8]))        # overtime worker constraint\n",
    "\n",
    "@constraint(m, y[2] <= x[3] + z[8])\n",
    "println(pay)\n",
    "# println([x y z])\n",
    "# println(pay.*[x y z])\n",
    "\n",
    "@constraint(m, pro[1]*x[1] + pro[2]*z[1] >= arrivals[1] + w[1] - w[2])               # 11:00\n",
    "@constraint(m, pro[1]*sum(x[1:2]) + pro[2]*sum(z[1:2]) >= arrivals[2] + w[2] - w[3])   # 12:00\n",
    "@constraint(m, pro[1]*sum(x[1:3]) + pro[2]*sum(z[1:3]) >= arrivals[3] + w[3] - w[4])   # 13:00\n",
    "@constraint(m, pro[1]*sum(x[1:3]) + pro[2]*sum(z[1:4]) >= arrivals[4] + w[4] - w[5])   # 14:00\n",
    "@constraint(m, pro[1]*sum(x[2:3]) + pro[2]*sum(z[2:5]) >= arrivals[5] + w[5] - w[6])   # 15:00\n",
    "@constraint(m, pro[1]*sum([x[1] x[3]]) + pro[2]*sum(z[3:6]) >= arrivals[6] + w[6] - w[7])   # 16:00\n",
    "@constraint(m, pro[1]*sum(x[1:2]) + pro[2]*sum(z[4:7]) >= arrivals[7] + w[7] - w[8])   # 17:00\n",
    "@constraint(m, pro[1]*sum(x[1:3]) + pro[2]*sum(z[5:8]) >= arrivals[8] + w[8] - w[9])   # 18:00\n",
    "@constraint(m, pro[1]*sum(x[1:3]) + pro[2]*sum(z[6:8]) >= arrivals[9] + w[9] - w[10])   # 19:00\n",
    "@constraint(m, pro[1]*(sum(x[2:3])+y[1]) + pro[2]*sum(z[7:8]) >= arrivals[10] + w[10] - w[11])   # 20:00\n",
    "@constraint(m, pro[1]*(x[3] + y[2]) + pro[2]*z[8] >= arrivals[11] + w[11])   # 21:00\n",
    "\n",
    "#min 90𝑥11 + 91𝑥12 + 92𝑥13 + 18𝑦11 + 18𝑦12 + 28𝑧11 + 28𝑧12 + 28𝑧13 + 28𝑧14 + 29𝑧15 + 30𝑧16 + 31𝑧17 + 32𝑧18\n",
    "# @objective(m, Min, pay.*[x y z])\n",
    "println(size([x;y;z]))\n",
    "@objective(m, Min, sum(pay[:].*[x; y; z]))\n",
    "m"
   ]
  },
  {
   "cell_type": "code",
   "execution_count": 20,
   "metadata": {},
   "outputs": [
    {
     "name": "stdout",
     "output_type": "stream",
     "text": [
      "2518.7499999999995\n"
     ]
    }
   ],
   "source": [
    "optimize!(m)\n",
    "println(objective_value(m))"
   ]
  },
  {
   "cell_type": "code",
   "execution_count": 21,
   "metadata": {},
   "outputs": [
    {
     "ename": "LoadError",
     "evalue": "In `@objective((0.002 * sum(y[:]) + 0.02 * sum(w[:])) - 0.001sum)`: needs three arguments: model, objective sense (Max or Min) and expression.",
     "output_type": "error",
     "traceback": [
      "In `@objective((0.002 * sum(y[:]) + 0.02 * sum(w[:])) - 0.001sum)`: needs three arguments: model, objective sense (Max or Min) and expression.",
      "",
      "Stacktrace:",
      " [1] error(::String, ::String) at ./error.jl:42",
      " [2] _macro_error(::Symbol, ::Tuple{Expr}, ::String) at /home/son/.julia/packages/JuMP/tyMag/src/macros.jl:1105",
      " [3] (::getfield(JuMP, Symbol(\"#_error#59\")){Expr,Tuple{}})(::String) at /home/son/.julia/packages/JuMP/tyMag/src/macros.jl:982",
      " [4] @objective(::LineNumberNode, ::Module, ::Any, ::Vararg{Any,N} where N) at /home/son/.julia/packages/JuMP/tyMag/src/macros.jl:988"
     ]
    }
   ],
   "source": [
    "using JuMP, LinearAlgebra, GLPK\n",
    "m = Model(with_optimizer(GLPK.Optimizer))\n",
    "s = [600 750 1200 2100 2250 180 330 540]     # cashSales\n",
    "r = [770 1260 1400 1750 2800 4900 5200 420]     # account Received\n",
    "p = [3200 5600 6000 480 880 1440 1600 2000]     # account payable\n",
    "e = [350 400 550 940 990 350 350 410]         # expenses\n",
    "\n",
    "@variable(m, g[1:8] >= 0)\n",
    "@variable(m, h[1:8] >= 0)\n",
    "@variable(m, w[1:8] >= 0)\n",
    "@variable(m, x[1:8] >= 0)\n",
    "\n",
    "@variable(m, 0<=y[1:8]<=4000)\n",
    "@variable(m, z[1:8])\n",
    "\n",
    "@objective(m, Min, 0.002*sum(y[:]) + 0.02*(sum(w[:])) - 0.001*sum(x[:]))\n",
    "\n",
    "# @constraint(m, z[1]  = g[1]-h[1]-x[1]+s[1]-e[1])\n",
    "for i=1:8                      # cash constraint\n",
    "    if(i<=1)\n",
    "        @constraint(m, z[i]  = g[i]-h[i]-x[i]+s[i]-e[i]+r[i]-0.98*(p[i] - w[i]))\n",
    "    elseif(i<=3)\n",
    "        @constraint(m, z[i]  = z[i-1]+g[i]-h[i]+1.001*x[i-1]-x[i]-0.002*y[i-1]+s[i]-e[i]+r[i]-0.98*(p[i] - w[i]))\n",
    "    else\n",
    "        @constraint(m, z[i]  = z[i-1]+g[i]-h[i]+1.001*x[i-1]-x[i]-0.002*y[i-1]+s[i]-e[i]+r[i]-0.98*(p[i] - w[i])-w[i-3])\n",
    "    end\n",
    "end\n",
    "\n",
    "for i=1:8                      # debt constraint\n",
    "    if(i<=1)\n",
    "        y[i]=g[i]-h[i]\n",
    "    else\n",
    "        y[i]=g[i]+1.002*y[i-1]-h[i]\n",
    "    end\n",
    "end\n",
    "\n",
    "for i=1:8                      # checking account LOC constraint\n",
    "    z[i] >= 0.2*y[i]\n",
    "    z[i] >= 20\n",
    "end\n"
   ]
  },
  {
   "cell_type": "code",
   "execution_count": 27,
   "metadata": {},
   "outputs": [
    {
     "name": "stdout",
     "output_type": "stream",
     "text": [
      "1\n",
      "2\n",
      "3\n",
      "4\n",
      "5\n",
      "6\n",
      "7\n",
      "8\n"
     ]
    }
   ],
   "source": [
    "for i=1:8\n",
    "    println(i)\n",
    "end"
   ]
  }
 ],
 "metadata": {
  "kernelspec": {
   "display_name": "Julia 1.1.1",
   "language": "julia",
   "name": "julia-1.1"
  },
  "language_info": {
   "file_extension": ".jl",
   "mimetype": "application/julia",
   "name": "julia",
   "version": "1.1.1"
  }
 },
 "nbformat": 4,
 "nbformat_minor": 2
}
