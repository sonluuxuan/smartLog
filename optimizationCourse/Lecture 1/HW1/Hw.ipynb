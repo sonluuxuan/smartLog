{
 "cells": [
  {
   "cell_type": "code",
   "execution_count": 2,
   "metadata": {},
   "outputs": [],
   "source": [
    "using JuMP, LinearAlgebra, GLPK"
   ]
  },
  {
   "cell_type": "markdown",
   "metadata": {},
   "source": [
    " Exercise 1:\n",
    "\n",
    "Bisco’s new sugar-free, fat-free chocolate squares are so popular that the company cannot keep up with demand. Regional demands shown in the following table total 2000 cases per week, but Bisco can produce only 60% of that number.\n",
    "\n",
    "|   Value| NE   | SE   | MW   | W    |\n",
    "|--------|------|------|------|------|\n",
    "| Demand | 620  | 490  | 510  | 380  |\n",
    "| Profit | 1.60 | 1.40 | 1.90 | 1.20 |\n",
    "\n",
    "The table also shows the different proft levels per case experienced in the regions due to competition and consumer tastes. Bisco wants to fnd a maximum proft plan that fulflls between 50 and 70% of each region’s demand.\n",
    "\n",
    "Formulate an allocation LP to choose an optimal distribution plan."
   ]
  },
  {
   "cell_type": "code",
   "execution_count": 14,
   "metadata": {},
   "outputs": [
    {
     "data": {
      "text/latex": [
       "$$ \\begin{alignat*}{1}\\max\\quad & 1.6 x1 + 1.4 x2 + 1.9 x3 + 1.2 x4\\\\\n",
       "\\text{Subject to} \\quad & x1 \\geq 310.0\\\\\n",
       " & x2 \\geq 245.0\\\\\n",
       " & x3 \\geq 255.0\\\\\n",
       " & x4 \\geq 190.0\\\\\n",
       " & x1 \\leq 434.0\\\\\n",
       " & x2 \\leq 343.0\\\\\n",
       " & x3 \\leq 357.0\\\\\n",
       " & x4 \\leq 266.0\\\\\n",
       " & x1 + x2 + x3 + x4 \\leq 1200.0\\\\\n",
       "\\end{alignat*}\n",
       " $$"
      ],
      "text/plain": [
       "A JuMP Model\n",
       "Maximization problem with:\n",
       "Variables: 4\n",
       "Objective function type: GenericAffExpr{Float64,VariableRef}\n",
       "`VariableRef`-in-`MathOptInterface.GreaterThan{Float64}`: 4 constraints\n",
       "`VariableRef`-in-`MathOptInterface.LessThan{Float64}`: 4 constraints\n",
       "`GenericAffExpr{Float64,VariableRef}`-in-`MathOptInterface.LessThan{Float64}`: 1 constraint\n",
       "Model mode: AUTOMATIC\n",
       "CachingOptimizer state: EMPTY_OPTIMIZER\n",
       "Solver name: GLPK\n",
       "Names registered in the model: x1, x2, x3, x4"
      ]
     },
     "execution_count": 14,
     "metadata": {},
     "output_type": "execute_result"
    }
   ],
   "source": [
    "using JuMP, LinearAlgebra, GLPK\n",
    "m = Model(with_optimizer(GLPK.Optimizer))\n",
    "@variable(m, 620*0.5<=x1<=620*0.7)\n",
    "@variable(m, 490*0.5<=x2<=490*0.7)\n",
    "@variable(m, 510*0.5<=x3<=510*0.7)\n",
    "@variable(m, 380*0.5<=x4<=380*0.7)\n",
    "@constraint(m, x1+x2+x3+x4<=2000*0.6)\n",
    "\n",
    "@objective(m, Max, 1.6*x1+1.4*x2+1.9*x3+1.2*x4)\n",
    "m"
   ]
  },
  {
   "cell_type": "code",
   "execution_count": 15,
   "metadata": {},
   "outputs": [
    {
     "name": "stdout",
     "output_type": "stream",
     "text": [
      "408.0\n",
      "245.0\n",
      "357.0\n",
      "190.0\n",
      "1902.1\n"
     ]
    }
   ],
   "source": [
    "optimize!(m)\n",
    "println(value(x1))\n",
    "println(value(x2))\n",
    "println(value(x3))\n",
    "println(value(x4))\n",
    "println(objective_value(m))"
   ]
  },
  {
   "cell_type": "markdown",
   "metadata": {},
   "source": [
    "## Exercise 2:\n",
    "\n",
    "Several forms of gasoline are produced during the petroleum refining process, and a last step combines them to obtain market products with specified quality measures. Suppose 4 different gasolines are available, with values for the 2 indexes of quality being 99 and 210, 70 and 335, 78 and 280, and 91 and 265, respectively. Using corresponding costs per barrel of\n",
    "$\\$$48, $\\$$43, $\\$$58, and $\\$$46, we would like to choose a minimum cost blend with a first quality index between 85 and 90 and a second index between 270 and 280.\n",
    "\n",
    "Formulate a blending LP to choose an optimal gasoline blend."
   ]
  },
  {
   "cell_type": "code",
   "execution_count": 60,
   "metadata": {
    "scrolled": true
   },
   "outputs": [
    {
     "data": {
      "text/latex": [
       "$$ \\begin{alignat*}{1}\\min\\quad & 48 x1 + 43 x2 + 58 x3 + 46 x4\\\\\n",
       "\\text{Subject to} \\quad & x1 \\geq 0.0\\\\\n",
       " & x2 \\geq 0.0\\\\\n",
       " & x3 \\geq 0.0\\\\\n",
       " & x4 \\geq 0.0\\\\\n",
       " & x1 + x2 + x3 + x4 = 1.0\\\\\n",
       " & -14 x1 + 15 x2 + 7 x3 - 6 x4 \\leq 0.0\\\\\n",
       " & 9 x1 - 20 x2 - 12 x3 + x4 \\leq 0.0\\\\\n",
       " & 60 x1 - 65 x2 - 10 x3 + 5 x4 \\leq 0.0\\\\\n",
       " & -70 x1 + 55 x2 - 15 x4 \\leq 0.0\\\\\n",
       "\\end{alignat*}\n",
       " $$"
      ],
      "text/plain": [
       "A JuMP Model\n",
       "Minimization problem with:\n",
       "Variables: 4\n",
       "Objective function type: GenericAffExpr{Float64,VariableRef}\n",
       "`VariableRef`-in-`MathOptInterface.GreaterThan{Float64}`: 4 constraints\n",
       "`GenericAffExpr{Float64,VariableRef}`-in-`MathOptInterface.EqualTo{Float64}`: 1 constraint\n",
       "`GenericAffExpr{Float64,VariableRef}`-in-`MathOptInterface.LessThan{Float64}`: 4 constraints\n",
       "Model mode: AUTOMATIC\n",
       "CachingOptimizer state: EMPTY_OPTIMIZER\n",
       "Solver name: GLPK\n",
       "Names registered in the model: x1, x2, x3, x4"
      ]
     },
     "execution_count": 60,
     "metadata": {},
     "output_type": "execute_result"
    }
   ],
   "source": [
    "using GLPK, LinearAlgebra, JuMP\n",
    "m = Model(with_optimizer(GLPK.Optimizer))\n",
    "@variable(m, x1 >= 0)\n",
    "@variable(m, x2 >= 0)\n",
    "@variable(m, x3 >= 0)\n",
    "@variable(m, x4 >= 0)\n",
    "@constraint(m, x1 + x2 +x3 +x4 == 1)\n",
    "@constraint(m, 85*(x1+x2+x3+x4) <= 99*x1 + 70*x2 + 78*x3 + 91*x4)\n",
    "@constraint(m, 99*x1 + 70*x2 + 78*x3 + 91*x4 <= 90*(x1+x2+x3+x4))\n",
    "@constraint(m, 270*(x1+x2+x3+x4) <= 210*x1 + 335*x2 + 280*x3 + 265*x4)\n",
    "@constraint(m, 210*x1 + 335*x2 + 280*x3 + 265*x4 <= 280*(x1+x2+x3+x4))\n",
    "@objective(m, Min, 48*x1+43*x2+58*x3+46*x4)\n",
    "m"
   ]
  },
  {
   "cell_type": "code",
   "execution_count": 61,
   "metadata": {},
   "outputs": [
    {
     "name": "stdout",
     "output_type": "stream",
     "text": [
      "0.17647058823529402\n",
      "0.3529411764705882\n",
      "0.0\n",
      "0.4705882352941179\n",
      "45.294117647058826\n"
     ]
    }
   ],
   "source": [
    "optimize!(m)\n",
    "println(value(x1))\n",
    "println(value(x2))\n",
    "println(value(x3))\n",
    "println(value(x4))\n",
    "println(objective_value(m))"
   ]
  },
  {
   "cell_type": "markdown",
   "metadata": {},
   "source": [
    "## Exercise 3:\n",
    "\n",
    "Perfect Stack builds standard and extralong wooden palettes for a variety of manufacturers. Each model consists of 3 heavy separators of length equal to the palette. The standard model has 5 cross pieces above and 5 below the separators and requires 0.25 hour to assemble. The extralong version has 9 similar cross pieces on top and bottom and consumes 0.30 hour to assemble. The supply of wood is essentially unlimited, but it requires 0.005 hour to fabricate a standard separator, 0.007 hour to fabricate an extralong separator, and 0.002 hour to fabricate a cross piece. Assuming that it can sell as many standard models as can be made at $\\$5$ profit each and as many extralongs at $7 profit, Perfect wants to decide what to produce with the available 200 hours of assembly time and 40 hours of fabrication.\n",
    "\n",
    "Formulate an operations management LP to choose an optimal plan."
   ]
  },
  {
   "cell_type": "code",
   "execution_count": 45,
   "metadata": {},
   "outputs": [
    {
     "data": {
      "text/latex": [
       "$$ \\begin{alignat*}{1}\\max\\quad & 5 x1 + 7 x2\\\\\n",
       "\\text{Subject to} \\quad & x1 \\geq 0.0\\\\\n",
       " & x2 \\geq 0.0\\\\\n",
       " & 0.25 x1 + 0.3 x2 \\leq 200.0\\\\\n",
       " & 0.05700000000000001 x2 + 0.035 x1 \\leq 40.0\\\\\n",
       "\\end{alignat*}\n",
       " $$"
      ],
      "text/plain": [
       "A JuMP Model\n",
       "Maximization problem with:\n",
       "Variables: 2\n",
       "Objective function type: GenericAffExpr{Float64,VariableRef}\n",
       "`VariableRef`-in-`MathOptInterface.GreaterThan{Float64}`: 2 constraints\n",
       "`GenericAffExpr{Float64,VariableRef}`-in-`MathOptInterface.LessThan{Float64}`: 2 constraints\n",
       "Model mode: AUTOMATIC\n",
       "CachingOptimizer state: EMPTY_OPTIMIZER\n",
       "Solver name: GLPK\n",
       "Names registered in the model: x1, x2"
      ]
     },
     "execution_count": 45,
     "metadata": {},
     "output_type": "execute_result"
    }
   ],
   "source": [
    "using GLPK, LinearAlgebra, JuMP\n",
    "\n",
    "m = Model(with_optimizer(GLPK.Optimizer))\n",
    "@variable(m, x1 >= 0)\n",
    "@variable(m, x2 >= 0)\n",
    "@constraint(m, 0.25*x1 + 0.3*x2 <= 200)\n",
    "@constraint(m, 0.007*3*x2 + 0.005*3*x1 + 0.002*(10*x1+18*x2) <= 40)\n",
    "@objective(m, Max, 5*x1+7*x2)\n",
    "m"
   ]
  },
  {
   "cell_type": "code",
   "execution_count": 46,
   "metadata": {},
   "outputs": [
    {
     "name": "stdout",
     "output_type": "stream",
     "text": [
      "0.0\n",
      "666.6666666666667\n",
      "4666.666666666667\n"
     ]
    }
   ],
   "source": [
    "optimize!(m)\n",
    "println(value(x1))\n",
    "println(value(x2))\n",
    "println(objective_value(m))"
   ]
  },
  {
   "cell_type": "code",
   "execution_count": null,
   "metadata": {},
   "outputs": [],
   "source": []
  }
 ],
 "metadata": {
  "kernelspec": {
   "display_name": "Julia 1.0.4",
   "language": "julia",
   "name": "julia-1.0"
  },
  "language_info": {
   "file_extension": ".jl",
   "mimetype": "application/julia",
   "name": "julia",
   "version": "1.0.4"
  }
 },
 "nbformat": 4,
 "nbformat_minor": 2
}
