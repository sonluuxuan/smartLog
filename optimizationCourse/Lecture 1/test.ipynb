{
 "cells": [
  {
   "cell_type": "code",
   "execution_count": 4,
   "metadata": {},
   "outputs": [
    {
     "data": {
      "text/latex": [
       "$$ \\begin{alignat*}{1}\\max\\quad & x + y\\\\\n",
       "\\text{Subject to} \\quad & x \\geq 45.0\\\\\n",
       " & y \\geq 5.0\\\\\n",
       " & 0.8333333333333333 x + 0.4 y \\leq 40.0\\\\\n",
       " & 0.5 x + 0.55 y \\leq 35.0\\\\\n",
       "\\end{alignat*}\n",
       " $$"
      ],
      "text/plain": [
       "A JuMP Model\n",
       "Maximization problem with:\n",
       "Variables: 2\n",
       "Objective function type: GenericAffExpr{Float64,VariableRef}\n",
       "`VariableRef`-in-`MathOptInterface.GreaterThan{Float64}`: 2 constraints\n",
       "`GenericAffExpr{Float64,VariableRef}`-in-`MathOptInterface.LessThan{Float64}`: 2 constraints\n",
       "Model mode: AUTOMATIC\n",
       "CachingOptimizer state: EMPTY_OPTIMIZER\n",
       "Solver name: GLPK\n",
       "Names registered in the model: x, y"
      ]
     },
     "execution_count": 4,
     "metadata": {},
     "output_type": "execute_result"
    }
   ],
   "source": [
    "using LinearAlgebra, GLPK, JuMP\n",
    "m = Model(with_optimizer(GLPK.Optimizer))\n",
    "@variable(m, x>=45)\n",
    "@variable(m, y>=5)\n",
    "@constraint(m, 5/6*x+24/60*y <= 40)\n",
    "@constraint(m, 0.5*x+33/60*y <= 35)\n",
    "@objective(m, Max, x+y)\n",
    "m\n"
   ]
  },
  {
   "cell_type": "code",
   "execution_count": 6,
   "metadata": {},
   "outputs": [
    {
     "name": "stdout",
     "output_type": "stream",
     "text": [
      "45.0\n",
      "6.25\n",
      "51.25\n"
     ]
    }
   ],
   "source": [
    "optimize!(m)\n",
    "println(value(x))\n",
    "println(value(y))\n",
    "println(objective_value(m))"
   ]
  }
 ],
 "metadata": {
  "kernelspec": {
   "display_name": "Julia 1.0.4",
   "language": "julia",
   "name": "julia-1.0"
  },
  "language_info": {
   "file_extension": ".jl",
   "mimetype": "application/julia",
   "name": "julia",
   "version": "1.0.4"
  }
 },
 "nbformat": 4,
 "nbformat_minor": 2
}
