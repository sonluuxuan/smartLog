{
 "cells": [
  {
   "cell_type": "markdown",
   "metadata": {},
   "source": [
    "# Linear Programming\n",
    "\n",
    "An optimization model is a **linear program** (or LP) if it has continuous variables, a single linear objective function, and all constraints are linear equalities or inequalities.\n",
    "\n",
    "## Linear and affine functions\n",
    "* A function $f(x_1,...,x_m)$ is **linear** in the variables $x_1,...,x_m$ if there exist constants $a_1,...,a_m$ such that\n",
    "$$f(x_1,...,x_m)=a^Tx$$\n",
    "+ A function $f(x_1,...,x_m)$ is **affine** in the variables $x_1,...,x_m$ if there exist constants $b,a_1,...,a_m$ such that\n",
    "$$f(x_1,...,x_m)=a^Tx+b$$\n",
    "\n",
    "**Example:**\n",
    "\n",
    "\n",
    "* $3x−y$ is linear in $(x,y)$.\n",
    "+ $2xy+ 1$ is affine in $x$ and $y$ but not in $(x,y)$\n",
    "+ $x^2+y^2$ is not linear or affine\n",
    "\n",
    "**Several linear or affine functions can be combined:**\n",
    "\n",
    "$$Ax+b$$\n",
    "\n",
    "where $A$ is a matrix $m*n$\n",
    "\n",
    "* Vector-valued function $F(x)$ is linear in $x$ if there exists aconstant matrix $A$ such that $F(x)=Ax$\n",
    "+ Vector-valued function $F(x)$ is affine in $x$ if there exists aconstant matrix $A$ such that $F(x)=Ax+b$\n",
    "\n",
    "## Geometry of affine equations\n",
    "\n",
    "The set of points $x\\in R^n$ that satisfies a linear equation $a^Tx= 0$ is called a **hyperplane**. The vector $a$ is **normal** to the hyperplane.\n",
    "\n",
    "If the right-hand side is nonzero: $a^Tx=b$, the solution setis called an **affine hyperplane**, (it’s a shifted hyperplane)\n",
    "\n",
    "![](affineplane.png)\n",
    "\n",
    "The set of points $x\\in R^n$ that satisfies many linear equation $Ax= 0$ is called a **subspace**.\n",
    "\n",
    "If the right-hand side is nonzero: $Ax=b$, the solution setis called an **affine subspace**, (it’s a shifted subspace)\n",
    "\n",
    "![](affineplane2.png)\n",
    "\n",
    "### Hyperplanes are subspaces!\n",
    "\n",
    "* A hyperplane in $R^n$ is a subspace of dimension $n−1$.\n",
    "+ The intersection of $k$ hyperplanes has dimension at least $n−k$(“at least” because of potential redundancy)\n",
    "\n",
    "## Affine combinations\n",
    "If $x,y\\in R^n$, then the combination:\n",
    "$$w=\\alpha x+(1-\\alpha)y$$\n",
    "for some $\\alpha \\in R$ is called **affine combinations**.\n",
    "\n",
    "If $Ax=b$ and $Ay=b$, then $Aw=b$.  So affine combinations of points in an (affine) subspace also belong to the subspace.\n",
    "\n",
    "**Geometry:**\n",
    "![](affinecomb1.png)\n",
    "\n",
    "equivalently:\n",
    "\n",
    "![](affinecomb2.png)\n",
    "\n",
    "### Convex combinations\n",
    "\n",
    "If $x,y\\in R^n$, then the combination:\n",
    "$$w=\\alpha x+(1-\\alpha)y$$\n",
    "for some $0<\\alpha <1$ is called **convex combinations**. It’s the line segment that connects x and y\n",
    "\n",
    "## Geometry of affine inequalities\n",
    "\n",
    "The set of points $x\\in R^n$ that satisfies a linear inequality $a^Tx\\leq b$ is called a **halfspace**.The vector a is *normal* to the halfspace and b shifts it.\n",
    "\n",
    "Define $w=\\alpha x+(1-\\alpha)y$ for some $0<\\alpha <1$. If $a^Tx\\leq b$ and $a^Ty \\leq b$, then $a^Tw\\leq b$.\n",
    "\n",
    "![](halfspace.png)\n",
    "\n",
    "The set of points $x\\in R^n$ satisfying many linear inequalities $Ax\\leq b$ is called a **polyhedron** or **polytope** (the intersection of many halfspaces).\n",
    "\n",
    "Define $w=\\alpha x+(1-\\alpha)y$ for some $0<\\alpha <1$. If $Ax\\leq b$ and $Ay \\leq b$, then $Aw\\leq b$.\n",
    "\n",
    "![](poly.png)\n",
    "\n",
    "## The linear program\n",
    "\n",
    "A linear program is an optimization model with:\n",
    "* Real-valued variables ($x\\in R^n$)\n",
    "+ affine objective function ($c^Tx+d$), can be min or max\n",
    "+ constraints may be: affine equations($Ax=b$), affine inequalities ($Ax>b, Ax<b$)\n",
    "+ individual variables may have: interval contraints or no contraints\n",
    "\n",
    "### Solutions of an LP\n",
    "\n",
    "There are exactly three possible cases:\n",
    "\n",
    "**1.** Model is **infeasible**:  there is no x that satisfies all the constraints.(is the model correct?)\n",
    "\n",
    "**2.** Model is **feasible**, but **unbounded**: the cost function can be arbitrarily improved. (forgot a constraint?)\n",
    "\n",
    "**3.** Model has a solution which occurs **on the boundary** of the set\n",
    "\n",
    "![](solution.png)\n",
    "\n",
    "### Standard form\n",
    "\n",
    "Every LP can be put in the form:\n",
    "\n",
    "$$\\max_{x\\in R^n} c^Tx$$\n",
    "subject to:\n",
    "$$Ax\\leq b$$\n",
    "$$x\\geq0$$\n",
    "\n",
    "This is called the **standard form** of a LP.\n",
    "\n",
    "**Top Brass example:**\n",
    "\n",
    "![](topbrass.png)\n",
    "\n",
    "### Transformation tricks:\n",
    "\n",
    "* converting min to max or vice versa (take the negative)\n",
    "$$\\min_x f(x) =−\\max_x (−f(x))$$\n",
    "+ reversing inequalities (flip the sign):\n",
    "$$Ax\\leq b⇐⇒(−A)x\\geq(−b)$$\n",
    "+ equalities to inequalities (double up):\n",
    "$$f(x) = 0⇐⇒f(x)\\geq 0 \\text{ and } f(x)\\leq 0$$\n",
    "+ inequalities to equalities (add slack):\n",
    "$$f(x)\\leq 0⇐⇒f(x) +s= 0 \\text{ and }s\\geq0$$\n",
    "+ unbounded to bounded (add difference):\n",
    "$$x\\in R⇐⇒u\\geq 0,v\\geq 0,\\text{ and } x=u−v$$\n",
    "+ bounded to unbounded (convert to inequality):\n",
    "$$p\\leq x\\leq q ⇐⇒ \\begin{bmatrix}1\\\\-1 \\end{bmatrix}x\\leq \\begin{bmatrix}p\\\\-q \\end{bmatrix}$$\n",
    "+ bounded to nonnegative (shift the variable)\n",
    "$$p\\leq x\\leq q⇐⇒0\\leq(x−p)\\text{ and }(x−p)\\leq(q−p)$$"
   ]
  },
  {
   "cell_type": "markdown",
   "metadata": {},
   "source": [
    "## Example with Julia:\n",
    "\n",
    "Convert the following linear program into standard form:\n",
    "$$\\min_{p,q\\in R} p+q$$\n",
    "subject to:\n",
    "$$5p-3q=7$$\n",
    "$$2p+q\\geq 2$$\n",
    "$$1\\leq q \\leq 4$$"
   ]
  },
  {
   "cell_type": "code",
   "execution_count": 1,
   "metadata": {},
   "outputs": [
    {
     "data": {
      "text/latex": [
       "$$ \\begin{alignat*}{1}\\min\\quad & p + q\\\\\n",
       "\\text{Subject to} \\quad & q \\geq 1.0\\\\\n",
       " & q \\leq 4.0\\\\\n",
       " & 5 p - 3 q = 7.0\\\\\n",
       " & 2 p + q \\geq 2.0\\\\\n",
       "\\end{alignat*}\n",
       " $$"
      ],
      "text/plain": [
       "A JuMP Model\n",
       "Minimization problem with:\n",
       "Variables: 2\n",
       "Objective function type: GenericAffExpr{Float64,VariableRef}\n",
       "`VariableRef`-in-`MathOptInterface.GreaterThan{Float64}`: 1 constraint\n",
       "`VariableRef`-in-`MathOptInterface.LessThan{Float64}`: 1 constraint\n",
       "`GenericAffExpr{Float64,VariableRef}`-in-`MathOptInterface.EqualTo{Float64}`: 1 constraint\n",
       "`GenericAffExpr{Float64,VariableRef}`-in-`MathOptInterface.GreaterThan{Float64}`: 1 constraint\n",
       "Model mode: AUTOMATIC\n",
       "CachingOptimizer state: EMPTY_OPTIMIZER\n",
       "Solver name: GLPK\n",
       "Names registered in the model: p, q"
      ]
     },
     "execution_count": 1,
     "metadata": {},
     "output_type": "execute_result"
    }
   ],
   "source": [
    "using JuMP, GLPK, LinearAlgebra\n",
    "\n",
    "m = Model(with_optimizer(GLPK.Optimizer))\n",
    "@variable(m, p )\n",
    "@variable(m, 1 <= q <= 4 )\n",
    "@constraint(m, 5p - 3q == 7 )\n",
    "@constraint(m, 2p + q >= 2 )\n",
    "@objective(m, Min, p + q )\n",
    "m"
   ]
  },
  {
   "cell_type": "code",
   "execution_count": 2,
   "metadata": {},
   "outputs": [
    {
     "name": "stdout",
     "output_type": "stream",
     "text": [
      "p = 2.0\n",
      "q = 1.0\n",
      "objective = 3.0\n"
     ]
    }
   ],
   "source": [
    "optimize!(m)\n",
    "println(\"p = \", value(p) )\n",
    "println(\"q = \", value(q) )\n",
    "println(\"objective = \", objective_value(m) )"
   ]
  },
  {
   "cell_type": "markdown",
   "metadata": {},
   "source": [
    "## Standard form\n",
    "It should look like: \n",
    "\n",
    "$$\\max_{x\\in R^n} c^Tx$$\n",
    "subject to:\n",
    "$$Ax\\leq b$$\n",
    "$$x\\geq0$$\n"
   ]
  },
  {
   "cell_type": "code",
   "execution_count": 3,
   "metadata": {},
   "outputs": [
    {
     "data": {
      "text/latex": [
       "$$ \\begin{alignat*}{1}\\max\\quad & -u + v - w - 1\\\\\n",
       "\\text{Subject to} \\quad & u \\geq 0.0\\\\\n",
       " & v \\geq 0.0\\\\\n",
       " & w \\geq 0.0\\\\\n",
       " & w \\leq 3.0\\\\\n",
       " & -5 u + 5 v + 3 w \\leq -10.0\\\\\n",
       " & 5 u - 5 v - 3 w \\leq 10.0\\\\\n",
       " & -2 u + 2 v - w \\leq -1.0\\\\\n",
       "\\end{alignat*}\n",
       " $$"
      ],
      "text/plain": [
       "A JuMP Model\n",
       "Maximization problem with:\n",
       "Variables: 3\n",
       "Objective function type: GenericAffExpr{Float64,VariableRef}\n",
       "`VariableRef`-in-`MathOptInterface.GreaterThan{Float64}`: 3 constraints\n",
       "`GenericAffExpr{Float64,VariableRef}`-in-`MathOptInterface.LessThan{Float64}`: 4 constraints\n",
       "Model mode: AUTOMATIC\n",
       "CachingOptimizer state: EMPTY_OPTIMIZER\n",
       "Solver name: GLPK\n",
       "Names registered in the model: u, v, w"
      ]
     },
     "execution_count": 3,
     "metadata": {},
     "output_type": "execute_result"
    }
   ],
   "source": [
    "m = Model(with_optimizer(GLPK.Optimizer))\n",
    "@variable(m, u >= 0 )\n",
    "@variable(m, v >= 0 )\n",
    "@variable(m, w >= 0 )\n",
    "@constraint(m, (w+1) <= 4 )\n",
    "@constraint(m, -5(u-v) + 3(w+1) <= -7 )\n",
    "@constraint(m, 5(u-v) - 3(w+1) <= 7 )\n",
    "@constraint(m, -2(u-v) - (w+1) <= -2 )\n",
    "@objective(m, Max, -(u-v) - (w+1) )\n",
    "m"
   ]
  },
  {
   "cell_type": "code",
   "execution_count": 4,
   "metadata": {},
   "outputs": [
    {
     "name": "stdout",
     "output_type": "stream",
     "text": [
      "p = 2.0\n",
      "q = 1.0\n",
      "objective = 3.0\n"
     ]
    }
   ],
   "source": [
    "optimize!(m)\n",
    "println(\"p = \", value(u-v) )\n",
    "println(\"q = \", value(w+1) )\n",
    "println(\"objective = \", -objective_value(m) )"
   ]
  },
  {
   "cell_type": "markdown",
   "metadata": {},
   "source": [
    "## Standard form (compact)\n"
   ]
  },
  {
   "cell_type": "code",
   "execution_count": 5,
   "metadata": {},
   "outputs": [
    {
     "data": {
      "text/latex": [
       "$$ \\begin{alignat*}{1}\\max\\quad & -x_{1} + x_{2} - x_{3} - 1\\\\\n",
       "\\text{Subject to} \\quad & x_{1} \\geq 0.0\\\\\n",
       " & x_{2} \\geq 0.0\\\\\n",
       " & x_{3} \\geq 0.0\\\\\n",
       " & x_{3} \\leq 3.0\\\\\n",
       " & -5 x_{1} + 5 x_{2} + 3 x_{3} \\leq -10.0\\\\\n",
       " & 5 x_{1} - 5 x_{2} - 3 x_{3} \\leq 10.0\\\\\n",
       " & -2 x_{1} + 2 x_{2} - x_{3} \\leq -1.0\\\\\n",
       "\\end{alignat*}\n",
       " $$"
      ],
      "text/plain": [
       "A JuMP Model\n",
       "Maximization problem with:\n",
       "Variables: 3\n",
       "Objective function type: GenericAffExpr{Float64,VariableRef}\n",
       "`VariableRef`-in-`MathOptInterface.GreaterThan{Float64}`: 3 constraints\n",
       "`GenericAffExpr{Float64,VariableRef}`-in-`MathOptInterface.LessThan{Float64}`: 4 constraints\n",
       "Model mode: AUTOMATIC\n",
       "CachingOptimizer state: EMPTY_OPTIMIZER\n",
       "Solver name: GLPK\n",
       "Names registered in the model: x"
      ]
     },
     "execution_count": 5,
     "metadata": {},
     "output_type": "execute_result"
    }
   ],
   "source": [
    "A = [0 0 1; -5 5 3; 5 -5 -3; -2 2 -1]\n",
    "b = [3; -10; 10; -1]\n",
    "c = [-1; 1; -1]\n",
    "m = Model(with_optimizer(GLPK.Optimizer))\n",
    "@variable(m, x[1:3] >= 0 )      # specify a vector variable\n",
    "@constraint(m, A*x .<= b )      # the dot in front of <=, which indicates element-wise (vector) inequalities\n",
    "@objective(m, Max, dot(c,x)-1 )   # must use dot(c,x) or (c'*x)[1] to return a scalar\n",
    "m"
   ]
  },
  {
   "cell_type": "code",
   "execution_count": 6,
   "metadata": {},
   "outputs": [
    {
     "name": "stdout",
     "output_type": "stream",
     "text": [
      "p = 2.0\n",
      "q = 1.0\n",
      "objective = 3.0\n"
     ]
    }
   ],
   "source": [
    "optimize!(m)\n",
    "println(\"p = \", value(x[1]-x[2]) )\n",
    "println(\"q = \", value(x[3]+1) )\n",
    "println(\"objective = \", -objective_value(m) )"
   ]
  },
  {
   "cell_type": "code",
   "execution_count": null,
   "metadata": {},
   "outputs": [],
   "source": []
  }
 ],
 "metadata": {
  "kernelspec": {
   "display_name": "Julia 1.0.4",
   "language": "julia",
   "name": "julia-1.0"
  },
  "language_info": {
   "file_extension": ".jl",
   "mimetype": "application/julia",
   "name": "julia",
   "version": "1.0.4"
  }
 },
 "nbformat": 4,
 "nbformat_minor": 2
}
