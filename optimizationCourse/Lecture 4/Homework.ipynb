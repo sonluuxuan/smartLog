{
 "cells": [
  {
   "cell_type": "markdown",
   "metadata": {},
   "source": [
    "## Building a stadium\n",
    "A town council wishes to construct a small stadium in order to improve the services provided to the people living in the district. After the invitation to tender, a local construction company is awarded the contract and wishes to complete the task within the shortest possible time. All the major tasks are listed in the following table. Some tasks can only start after the completion of certain other tasks, as indicated by the \"Predecessors\" column.\n",
    "\n",
    "![](stad1.png)\n",
    "\n",
    "**a)** What is the earliest possible date of completion for the construction? Note that the last two columns of the table are not relevant for this part of the problem.\n",
    "\n",
    "**b)** The town council wants the builder to expedite the project. As an incentive, the council will pay a bonus of $\\$30$k/week for each week the work finishes early. To accomplish this, the builder may employ additional workers and rent more equipment to cut down on the total time. The last two columns of the table show the maximum number of weeks that can be saved per task and the associated additional cost per week incurred by the extra work. When will the project be completed if the builder is acting in a way that maximizes his profit?"
   ]
  },
  {
   "cell_type": "code",
   "execution_count": 29,
   "metadata": {},
   "outputs": [
    {
     "name": "stdout",
     "output_type": "stream",
     "text": [
      "Float64\n",
      "(18,)\n",
      "(18,)\n",
      "(18,)\n"
     ]
    },
    {
     "ename": "MethodError",
     "evalue": "MethodError: Cannot `convert` an object of type GenericAffExpr{Float64,VariableRef} to an object of type Float64\nClosest candidates are:\n  convert(::Type{T<:Number}, !Matched::T<:Number) where T<:Number at number.jl:6\n  convert(::Type{T<:Number}, !Matched::Number) where T<:Number at number.jl:7\n  convert(::Type{T<:Number}, !Matched::Base.TwicePrecision) where T<:Number at twiceprecision.jl:250\n  ...",
     "output_type": "error",
     "traceback": [
      "MethodError: Cannot `convert` an object of type GenericAffExpr{Float64,VariableRef} to an object of type Float64\nClosest candidates are:\n  convert(::Type{T<:Number}, !Matched::T<:Number) where T<:Number at number.jl:6\n  convert(::Type{T<:Number}, !Matched::Number) where T<:Number at number.jl:7\n  convert(::Type{T<:Number}, !Matched::Base.TwicePrecision) where T<:Number at twiceprecision.jl:250\n  ...",
      "",
      "Stacktrace:",
      " [1] setindex!(::Array{Float64,2}, ::GenericAffExpr{Float64,VariableRef}, ::Int64) at ./array.jl:767",
      " [2] minweek(::Array{VariableRef,1}) at ./In[29]:15",
      " [3] top-level scope at /home/son/.julia/packages/JuMP/tyMag/src/macros.jl:410",
      " [4] top-level scope at In[29]:64"
     ]
    }
   ],
   "source": [
    "                                                                                                                                                                                                                                                                                                                                                                                                                                                                                                                                                                                                                                                                                                                                                                                                                                                                                                                                                                                                                                                                                                                                                                                                                                                                                                                                                                                                                                                                                                                                                                                                                                                                                                                                                                                                                                                                                                                                                                                                                                                                                                                                                                                                                                                                                                                                                                                                                                                                                                                                                                                                                                                                                                                                                                                                                                                                                                                                                                                                                                                                                                                                                                                                                                                                                                                                                                                                                                                        using JuMP, GLPK, LinearAlgebra\n",
    "tasks = 1:18\n",
    "durations = [2 16 9 8 10 6 2 2 9 5 3 2 1 7 4 3 9 1]\n",
    "predecessors = ([], [1], [2], [2], [3], [4,5], [4], [6], [4,6],\n",
    "                [4], [6], [9], [7], [2], [4,14], [8,11,14], [12], [17])\n",
    "comp = zeros(1,18)       # week complete of each task\n",
    "function minweek(dur)\n",
    "    for i=1:18\n",
    "        plus = 0\n",
    "        for j in predecessors[i]\n",
    "            if plus<comp[j]\n",
    "                plus = comp[j]\n",
    "            end\n",
    "        end\n",
    "        comp[i] = dur[i] + plus\n",
    "    end\n",
    "    return(maximum(comp))\n",
    "end\n",
    "println(typeof((minweek(durations))))\n",
    "# print(maximum(comp))\n",
    "\n",
    "######## using linear programming\n",
    "# m = Model(with_optimizer(GLPK.Optimizer))\n",
    "# @variable(m, comp[1:18]>=0)\n",
    "# for i=1:18\n",
    "#     if size(predecessors[i])[1] == 0\n",
    "#         @constraint(m, comp[i] >= durations[i])\n",
    "#     elseif size(pre[i])[1] == 1\n",
    "#         @constraint(m, comp[i] >= durations[i] + comp[predecessors[i]])\n",
    "#     else\n",
    "#         for j in predecessors[i]\n",
    "#             @constraint(m, comp[i] >= durations[i] + comp[j])\n",
    "#         end\n",
    "#     end\n",
    "# end\n",
    "# @objective(m, Min, sum(comp[i]))\n",
    "# optimize!(m)\n",
    "# result = zeros(1,18)\n",
    "# for i=1:18\n",
    "#     println(value(comp[i]))\n",
    "#     result[i] += value(comp[i])\n",
    "# end\n",
    "# print(maximum(result))\n",
    "\n",
    "# additional columns of data (maximum reduction possible )\n",
    "max_reduction =  [0,  3,  1,  2,  2,  1, 1, 0,  2,  1,  1, 0, 0,  2,  2, 1,  3, 0] \n",
    "cost_reduction = [0, 30, 26, 12, 17, 15, 8, 0, 42, 21, 18, 0, 0, 22, 12, 6, 16, 0]   \n",
    "println(size(max_reduction))\n",
    "println(size(cost_reduction))\n",
    "bonus_amount = 30     # bonus for expediting the project ($1,000/week )\n",
    "m = Model(with_optimizer(GLPK.Optimizer))\n",
    "@variable(m, reduction[1:18]>=0)      # actual reduction weeks for each task\n",
    "@variable(m, 0<=t<=63)\n",
    "@variable(m, totalSum >= 0)\n",
    "@variable(m, dur[1:18])\n",
    "for i=1:18\n",
    "    @constraint(m, reduction[i] <= max_reduction[i])\n",
    "end\n",
    "println(size(reduction))\n",
    "@constraint(m, totalSum == ((cost_reduction')*reduction))\n",
    "@objective(m, Max, 30*(63-t) - totalSum)\n",
    "# println(typeof(minweek(durations-reduction')))\n",
    "@constraint(m, dur .== durations - reduction')\n",
    "@constraint(m, t==(minweek(dur)))\n",
    "@constraint(m, 30*(63-t) >= sum(cost_reduction.*reduction))\n",
    "# m"
   ]
  },
  {
   "cell_type": "markdown",
   "metadata": {},
   "source": [
    "## Museum site planning\n",
    "\n",
    "A site is being investigated as a potential location for a new museum. An aerial plan of the site is shown in the figure below (in units of feet). The museum will have a circular footprint and law mandates that there be at least 50 feet of clearance between the building and any edge of the site. If we want the largest possible museum, where should it be located? What is its optimal radius?\n",
    "\n",
    "![](museum.png)"
   ]
  },
  {
   "cell_type": "code",
   "execution_count": 7,
   "metadata": {},
   "outputs": [
    {
     "name": "stdout",
     "output_type": "stream",
     "text": [
      "244.02852679380186\n"
     ]
    }
   ],
   "source": [
    "## your code goes here\n",
    "# -x <= 0 # left\n",
    "# y <= 500 # up\n",
    "# -y <= 0 # down\n",
    "# 3x - y <= 1500 bottom\n",
    "# 2/3x + y <=  700 top right\n",
    "# max(min(r)); a'y + norm(a)r = b\n",
    "using GLPK, LinearAlgebra, JuMP\n",
    "m = Model(with_optimizer(GLPK.Optimizer))\n",
    "a = [-1 0; 0 1; 0 -1; 3 -1; 2/3 1]\n",
    "b = [0; 500; 0; 1500; 700]\n",
    "@variable(m, y[1:2])\n",
    "@variable(m, r>=0)\n",
    "for i=1:5\n",
    "    @constraint(m, a[i,:]'*y + norm(a[i,:])*r <= b[i])\n",
    "end\n",
    "@objective(m, Max, r)\n",
    "m\n",
    "optimize!(m)\n",
    "println(value(r))"
   ]
  },
  {
   "cell_type": "markdown",
   "metadata": {},
   "source": [
    "## Virginia Prestress (VP) location\n",
    "VP was planning for production of a new product: concrete utility poles. That production required a new concrete casting area to make poles and a storage area for finished products.\n",
    "\n",
    "Figure bellow presents the implied facilities location problem for our fictitious case. The two new facilities will interact with each other and with three existing operations: the concrete batching facility, where premixed concrete is prepared, the steel area, where reinforcing steel is manufactured, and the shipping gate, where finished poles are processed out of the plant. A coordinate system quantifies the locations of all three existing facilities, and the adjoining table displays material handling costs of expected traffic between facilities. For example, each foot of distance between the pole storage area and the shipping gate adds $\\$0.40$ in crane activity. We must choose locations for the new facilities to minimize total material handling cost. Note that the facilities design use [Manhattan distance](https://vi.wikipedia.org/wiki/Kho%E1%BA%A3ng_c%C3%A1ch_Manhattan).\n",
    "\n",
    "![](vp1.png)"
   ]
  },
  {
   "cell_type": "code",
   "execution_count": 1,
   "metadata": {},
   "outputs": [
    {
     "data": {
      "text/latex": [
       "$$ \\begin{alignat*}{1}\\min\\quad & 4 t_{1} + 4 t_{2} + 1.1 t_{3} + 1.1 t_{4} + 0.7 t_{5} + 0.7 t_{6} + 0.65 t_{7} + 0.65 t_{8} + 0.4 t_{9} + 0.4 t_{10}\\\\\n",
       "\\text{Subject to} \\quad & x_{1} \\geq 0.0\\\\\n",
       " & x_{2} \\geq 0.0\\\\\n",
       " & y_{1} \\geq 0.0\\\\\n",
       " & y_{2} \\geq 0.0\\\\\n",
       " & x_{1} - y_{1} \\geq 1.0\\\\\n",
       " & x_{2} - y_{2} \\geq 1.0\\\\\n",
       " & t_{1} - x_{1} + y_{1} \\geq 0.0\\\\\n",
       " & t_{1} + x_{1} - y_{1} \\geq 0.0\\\\\n",
       " & t_{2} - x_{2} + y_{2} \\geq 0.0\\\\\n",
       " & t_{2} + x_{2} - y_{2} \\geq 0.0\\\\\n",
       " & t_{3} - x_{1} \\geq -300.0\\\\\n",
       " & t_{3} + x_{1} \\geq 300.0\\\\\n",
       " & t_{4} - x_{2} \\geq -1200.0\\\\\n",
       " & t_{4} + x_{2} \\geq 1200.0\\\\\n",
       " & t_{5} - x_{1} \\geq 0.0\\\\\n",
       " & t_{5} + x_{1} \\geq 0.0\\\\\n",
       " & t_{6} - x_{2} \\geq -600.0\\\\\n",
       " & t_{6} + x_{2} \\geq 600.0\\\\\n",
       " & t_{7} - y_{1} \\geq 0.0\\\\\n",
       " & t_{7} + y_{1} \\geq 0.0\\\\\n",
       " & t_{8} - y_{2} \\geq -600.0\\\\\n",
       " & t_{8} + y_{2} \\geq 600.0\\\\\n",
       " & t_{9} - y_{1} \\geq -600.0\\\\\n",
       " & t_{9} + y_{1} \\geq 600.0\\\\\n",
       " & t_{10} - y_{2} \\geq 0.0\\\\\n",
       " & t_{10} + y_{2} \\geq 0.0\\\\\n",
       " & -x_{1} + y_{1} \\leq -1.0\\\\\n",
       " & -x_{2} + y_{2} \\leq -1.0\\\\\n",
       "\\end{alignat*}\n",
       " $$"
      ],
      "text/plain": [
       "A JuMP Model\n",
       "Minimization problem with:\n",
       "Variables: 14\n",
       "Objective function type: GenericAffExpr{Float64,VariableRef}\n",
       "`VariableRef`-in-`MathOptInterface.GreaterThan{Float64}`: 4 constraints\n",
       "`GenericAffExpr{Float64,VariableRef}`-in-`MathOptInterface.GreaterThan{Float64}`: 22 constraints\n",
       "`GenericAffExpr{Float64,VariableRef}`-in-`MathOptInterface.LessThan{Float64}`: 2 constraints\n",
       "Model mode: AUTOMATIC\n",
       "CachingOptimizer state: EMPTY_OPTIMIZER\n",
       "Solver name: GLPK\n",
       "Names registered in the model: t, x, y"
      ]
     },
     "execution_count": 1,
     "metadata": {},
     "output_type": "execute_result"
    }
   ],
   "source": [
    "## your code goes here\n",
    "using GLPK, JuMP, LinearAlgebra\n",
    "m = Model(with_optimizer(GLPK.Optimizer))\n",
    "concrete = [300, 1200]\n",
    "steel = [0, 600]\n",
    "shipping = [600, 0]\n",
    "cost = [4,4,1.1,1.1,0.7,0.7,0.65,0.65,0.4,0.4]\n",
    "@variable(m, x[1:2] >= 0) #casting coordinate\n",
    "@variable(m, y[1:2] >= 0) #storage coordinate\n",
    "@variable(m, t[1:10]) #t\n",
    "@objective(m, Min, sum(cost.*t))\n",
    "\n",
    "@constraint(m, x[1] - y[1] >= 1)\n",
    "@constraint(m, -x[1] + y[1] <= -1)\n",
    "\n",
    "@constraint(m, x[2] - y[2] >= 1)\n",
    "@constraint(m, -x[2] + y[2] <= -1)\n",
    "\n",
    "@constraint(m, t[1] >= x[1] - y[1])\n",
    "@constraint(m, t[1] >= -x[1] + y[1])\n",
    "\n",
    "@constraint(m, t[2] >= x[2] - y[2])\n",
    "@constraint(m, t[2] >= -x[2] + y[2])\n",
    "\n",
    "@constraint(m, t[3] >= x[1] - concrete[1])\n",
    "@constraint(m, t[3] >= -x[1] + concrete[1])\n",
    "\n",
    "@constraint(m, t[4] >= x[2] - concrete[2])\n",
    "@constraint(m, t[4] >= -x[2] + concrete[2])\n",
    "\n",
    "@constraint(m, t[5] >= x[1] - steel[1])\n",
    "@constraint(m, t[5] >= -x[1] + steel[1])\n",
    "\n",
    "@constraint(m, t[6] >= x[2] - steel[2])\n",
    "@constraint(m, t[6] >= -x[2] + steel[2])\n",
    "\n",
    "@constraint(m, t[7] >= y[1] - steel[1])\n",
    "@constraint(m, t[7] >= -y[1] + steel[1])\n",
    "\n",
    "@constraint(m, t[8] >= y[2] - steel[2])\n",
    "@constraint(m, t[8] >= -y[2] + steel[2])\n",
    "\n",
    "@constraint(m, t[9] >= y[1] - shipping[1])\n",
    "@constraint(m, t[9] >= -y[1] + shipping[1])\n",
    "\n",
    "@constraint(m, t[10] >= y[2] - shipping[2])\n",
    "@constraint(m, t[10] >= -y[2] + shipping[2])\n",
    "m\n"
   ]
  },
  {
   "cell_type": "code",
   "execution_count": 2,
   "metadata": {},
   "outputs": [
    {
     "name": "stdout",
     "output_type": "stream",
     "text": [
      "300.0\n",
      "601.0\n",
      "299.0\n",
      "600.0\n",
      "1432.3500000000001\n",
      "1.0\n",
      "1.0\n",
      "0.0\n",
      "599.0\n",
      "300.0\n",
      "1.0\n",
      "299.0\n",
      "0.0\n",
      "301.0\n",
      "600.0\n"
     ]
    }
   ],
   "source": [
    "optimize!(m)\n",
    "println(value(x[1]))\n",
    "println(value(x[2]))\n",
    "println(value(y[1]))\n",
    "println(value(y[2]))\n",
    "println(objective_value(m))\n",
    "for i=1:10\n",
    "    println(value(t[i]))\n",
    "end"
   ]
  }
 ],
 "metadata": {
  "kernelspec": {
   "display_name": "Julia 1.0.4",
   "language": "julia",
   "name": "julia-1.0"
  },
  "language_info": {
   "file_extension": ".jl",
   "mimetype": "application/julia",
   "name": "julia",
   "version": "1.0.4"
  }
 },
 "nbformat": 4,
 "nbformat_minor": 2
}
