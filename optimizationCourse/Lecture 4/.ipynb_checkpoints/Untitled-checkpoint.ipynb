{
 "cells": [
  {
   "cell_type": "code",
   "execution_count": 3,
   "metadata": {},
   "outputs": [
    {
     "data": {
      "text/latex": [
       "$$ \\begin{alignat*}{1}\\min\\quad & comp_{1} + comp_{2} + comp_{3} + comp_{4} + comp_{5} + comp_{6} + comp_{7} + comp_{8} + comp_{9} + comp_{10} + comp_{11} + comp_{12} + comp_{13} + comp_{14} + comp_{15} + comp_{16} + comp_{17} + comp_{18}\\\\\n",
       "\\text{Subject to} \\quad & comp_{1} \\geq 0.0\\\\\n",
       " & comp_{2} \\geq 0.0\\\\\n",
       " & comp_{3} \\geq 0.0\\\\\n",
       " & comp_{4} \\geq 0.0\\\\\n",
       " & comp_{5} \\geq 0.0\\\\\n",
       " & comp_{6} \\geq 0.0\\\\\n",
       " & comp_{7} \\geq 0.0\\\\\n",
       " & comp_{8} \\geq 0.0\\\\\n",
       " & comp_{9} \\geq 0.0\\\\\n",
       " & comp_{10} \\geq 0.0\\\\\n",
       " & comp_{11} \\geq 0.0\\\\\n",
       " & comp_{12} \\geq 0.0\\\\\n",
       " & comp_{13} \\geq 0.0\\\\\n",
       " & comp_{14} \\geq 0.0\\\\\n",
       " & comp_{15} \\geq 0.0\\\\\n",
       " & comp_{16} \\geq 0.0\\\\\n",
       " & comp_{17} \\geq 0.0\\\\\n",
       " & comp_{18} \\geq 0.0\\\\\n",
       " & comp_{1} \\geq 1.0\\\\\n",
       " & comp_{2} - comp_{1} \\geq 14.0\\\\\n",
       " & comp_{3} - comp_{2} \\geq 6.0\\\\\n",
       " & comp_{4} - comp_{2} \\geq 5.0\\\\\n",
       " & comp_{5} - comp_{3} \\geq 8.0\\\\\n",
       " & comp_{6} - comp_{4} \\geq 1.0\\\\\n",
       " & comp_{6} - comp_{5} \\geq 1.0\\\\\n",
       " & comp_{7} - comp_{4} \\geq 1.0\\\\\n",
       " & comp_{8} - comp_{6} \\geq 0.0\\\\\n",
       " & comp_{9} - comp_{4} \\geq 6.0\\\\\n",
       " & comp_{9} - comp_{6} \\geq 6.0\\\\\n",
       " & comp_{10} - comp_{4} \\geq 3.0\\\\\n",
       " & comp_{11} - comp_{6} \\geq 0.0\\\\\n",
       " & comp_{12} - comp_{9} \\geq 0.0\\\\\n",
       " & comp_{13} - comp_{7} \\geq 0.0\\\\\n",
       " & comp_{14} - comp_{2} \\geq 4.0\\\\\n",
       " & comp_{15} - comp_{4} \\geq 2.0\\\\\n",
       " & comp_{15} - comp_{14} \\geq 2.0\\\\\n",
       " & comp_{16} - comp_{8} \\geq 2.0\\\\\n",
       " & comp_{16} - comp_{11} \\geq 2.0\\\\\n",
       " & comp_{16} - comp_{14} \\geq 2.0\\\\\n",
       " & comp_{17} - comp_{12} \\geq 8.0\\\\\n",
       " & comp_{18} - comp_{17} \\geq 0.0\\\\\n",
       "\\end{alignat*}\n",
       " $$"
      ],
      "text/plain": [
       "A JuMP Model\n",
       "Minimization problem with:\n",
       "Variables: 18\n",
       "Objective function type: GenericAffExpr{Float64,VariableRef}\n",
       "`VariableRef`-in-`MathOptInterface.GreaterThan{Float64}`: 18 constraints\n",
       "`GenericAffExpr{Float64,VariableRef}`-in-`MathOptInterface.GreaterThan{Float64}`: 23 constraints\n",
       "Model mode: AUTOMATIC\n",
       "CachingOptimizer state: EMPTY_OPTIMIZER\n",
       "Solver name: GLPK\n",
       "Names registered in the model: comp"
      ]
     },
     "execution_count": 3,
     "metadata": {},
     "output_type": "execute_result"
    }
   ],
   "source": [
    "using JuMP, GLPK, LinearAlgebra\n",
    "tasks = 1:18\n",
    "reductions = [1 2 3 3 2 5 1 2 3 2 3 2 1 3 2 1 1 1]\n",
    "durationsOriginal = [2 16 9 8 10 6 2 2 9 5 3 2 1 7 4 3 9 1]\n",
    "durations = durationsOriginal - reductions\n",
    "predecessors = ([], [1], [2], [2], [3], [4,5], [4], [6], [4,6],\n",
    "                [4], [6], [9], [7], [2], [4,14], [8,11,14], [12], [17])\n",
    "comp = zeros(1,18)       # week complete of each task\n",
    "m = Model(with_optimizer(GLPK.Optimizer))\n",
    "@variable(m, comp[1:18]>=0)\n",
    "for i=1:18\n",
    "    if size(predecessors[i])[1] == 0\n",
    "        @constraint(m, comp[i] >= durations[i])\n",
    "    elseif size(predecessors[i])[1] == 1\n",
    "        @constraint(m, comp[i] >= durations[i] + comp[predecessors[i][1]])\n",
    "    else\n",
    "        for j in predecessors[i]\n",
    "            @constraint(m, comp[i] >= durations[i] + comp[j])\n",
    "        end\n",
    "    end\n",
    "end\n",
    "@objective(m, Min, sum(comp))\n",
    "m"
   ]
  },
  {
   "cell_type": "code",
   "execution_count": 7,
   "metadata": {},
   "outputs": [
    {
     "name": "stdout",
     "output_type": "stream",
     "text": [
      "1.0\n",
      "15.0\n",
      "21.0\n",
      "20.0\n",
      "29.0\n",
      "30.0\n",
      "21.0\n",
      "30.0\n",
      "36.0\n",
      "23.0\n",
      "30.0\n",
      "36.0\n",
      "21.0\n",
      "19.0\n",
      "22.0\n",
      "32.0\n",
      "44.0\n",
      "44.0\n",
      "44.0\n",
      "38\n",
      "25\n"
     ]
    }
   ],
   "source": [
    "optimize!(m)\n",
    "result = zeros(1,18)\n",
    "for i=1:18\n",
    "    println(value(comp[i]))\n",
    "    result[i] += value(comp[i])\n",
    "end\n",
    "println(maximum(result))\n",
    "println(sum(reductions))\n",
    "println(63 - sum(reductions))"
   ]
  },
  {
   "cell_type": "code",
   "execution_count": 10,
   "metadata": {},
   "outputs": [
    {
     "name": "stdout",
     "output_type": "stream",
     "text": [
      "44.0\n",
      "[1.0 15.0 21.0 20.0 29.0 30.0 21.0 30.0 36.0 23.0 30.0 36.0 21.0 19.0 22.0 32.0 44.0 42.0]\n"
     ]
    }
   ],
   "source": [
    "using JuMP, GLPK, LinearAlgebra\n",
    "tasks = 1:18\n",
    "reductions = [1 2 3 3 2 5 1 2 3 2 3 2 1 3 2 1 1 3]\n",
    "durationsOriginal = [2 16 9 8 10 6 2 2 9 5 3 2 1 7 4 3 9 1]\n",
    "durations = durationsOriginal - reductions\n",
    "predecessors = ([], [1], [2], [2], [3], [4,5], [4], [6], [4,6],\n",
    "                [4], [6], [9], [7], [2], [4,14], [8,11,14], [12], [17])\n",
    "comp = zeros(1,18)       # week complete of each task\n",
    "for i=1:18\n",
    "    plus = 0\n",
    "    for j in predecessors[i]\n",
    "        if plus<comp[j]\n",
    "            plus = comp[j]\n",
    "        end\n",
    "    end\n",
    "    comp[i] = durations[i] + plus\n",
    "end\n",
    "println(maximum(comp))\n",
    "println(comp)"
   ]
  },
  {
   "cell_type": "code",
   "execution_count": 11,
   "metadata": {},
   "outputs": [
    {
     "name": "stdout",
     "output_type": "stream",
     "text": [
      "(3,)\n",
      "[1 2 3]\n",
      "(1, 3)\n",
      "20\n",
      "(2,)\n"
     ]
    }
   ],
   "source": [
    "a = [1; 2; 3]\n",
    "b = [2, 3, 4]\n",
    "c = [-1 0; 0 1; 0 -1; 3 -1; 2/3 1]\n",
    "println(size(a))\n",
    "println(a')\n",
    "println(size(a'))\n",
    "println(a'*b)\n",
    "println(size(c[1,:]))"
   ]
  },
  {
   "cell_type": "code",
   "execution_count": 18,
   "metadata": {},
   "outputs": [
    {
     "name": "stdout",
     "output_type": "stream",
     "text": [
      "11\n"
     ]
    }
   ],
   "source": [
    "a = [1 8 3 4 5 6]\n",
    "println(sum(a[j] for j in [2,3]))"
   ]
  },
  {
   "cell_type": "code",
   "execution_count": 2,
   "metadata": {},
   "outputs": [
    {
     "name": "stdout",
     "output_type": "stream",
     "text": [
      "64.0\n",
      "[2.0 18.0 27.0 26.0 37.0 43.0 28.0 45.0 52.0 31.0 46.0 54.0 29.0 25.0 30.0 49.0 63.0 64.0]\n",
      "(18,)\n",
      "(18,)\n",
      "(18,)\n"
     ]
    },
    {
     "data": {
      "text/latex": [
       "$$ \\begin{alignat*}{1}\\max\\quad & -30 t - totalSum + 1890\\\\\n",
       "\\text{Subject to} \\quad & reduction_{1} \\geq 0.0\\\\\n",
       " & reduction_{2} \\geq 0.0\\\\\n",
       " & reduction_{3} \\geq 0.0\\\\\n",
       " & reduction_{4} \\geq 0.0\\\\\n",
       " & reduction_{5} \\geq 0.0\\\\\n",
       " & reduction_{6} \\geq 0.0\\\\\n",
       " & reduction_{7} \\geq 0.0\\\\\n",
       " & reduction_{8} \\geq 0.0\\\\\n",
       " & reduction_{9} \\geq 0.0\\\\\n",
       " & reduction_{10} \\geq 0.0\\\\\n",
       " & reduction_{11} \\geq 0.0\\\\\n",
       " & reduction_{12} \\geq 0.0\\\\\n",
       " & reduction_{13} \\geq 0.0\\\\\n",
       " & reduction_{14} \\geq 0.0\\\\\n",
       " & reduction_{15} \\geq 0.0\\\\\n",
       " & reduction_{16} \\geq 0.0\\\\\n",
       " & reduction_{17} \\geq 0.0\\\\\n",
       " & reduction_{18} \\geq 0.0\\\\\n",
       " & t \\geq 0.0\\\\\n",
       " & totalSum \\geq 0.0\\\\\n",
       " & t \\leq 63.0\\\\\n",
       " & totalSum - 30 reduction_{2} - 26 reduction_{3} - 12 reduction_{4} - 17 reduction_{5} - 15 reduction_{6} - 8 reduction_{7} - 42 reduction_{9} - 21 reduction_{10} - 18 reduction_{11} - 22 reduction_{14} - 12 reduction_{15} - 6 reduction_{16} - 16 reduction_{17} = 0.0\\\\\n",
       " & t + reduction_{1} \\geq 2.0\\\\\n",
       " & t + reduction_{2} + reduction_{1} \\geq 18.0\\\\\n",
       " & t + reduction_{3} + reduction_{2} \\geq 27.0\\\\\n",
       " & t + reduction_{4} + reduction_{2} \\geq 26.0\\\\\n",
       " & t + reduction_{5} + reduction_{3} \\geq 37.0\\\\\n",
       " & t + reduction_{6} + reduction_{4} + reduction_{5} \\geq 43.0\\\\\n",
       " & t + reduction_{7} + reduction_{4} \\geq 28.0\\\\\n",
       " & t + reduction_{8} + reduction_{6} \\geq 45.0\\\\\n",
       " & t + reduction_{9} + reduction_{4} + reduction_{6} \\geq 52.0\\\\\n",
       " & t + reduction_{10} + reduction_{4} \\geq 31.0\\\\\n",
       " & t + reduction_{11} + reduction_{6} \\geq 46.0\\\\\n",
       " & t + reduction_{12} + reduction_{9} \\geq 54.0\\\\\n",
       " & t + reduction_{13} + reduction_{7} \\geq 29.0\\\\\n",
       " & t + reduction_{14} + reduction_{2} \\geq 25.0\\\\\n",
       " & t + reduction_{15} + reduction_{4} + reduction_{14} \\geq 30.0\\\\\n",
       " & t + reduction_{16} + reduction_{8} + reduction_{11} + reduction_{14} \\geq 49.0\\\\\n",
       " & t + reduction_{17} + reduction_{12} \\geq 63.0\\\\\n",
       " & t + reduction_{18} + reduction_{17} \\geq 64.0\\\\\n",
       " & reduction_{1} \\leq 0.0\\\\\n",
       " & reduction_{2} \\leq 3.0\\\\\n",
       " & reduction_{3} \\leq 1.0\\\\\n",
       " & reduction_{4} \\leq 2.0\\\\\n",
       " & reduction_{5} \\leq 2.0\\\\\n",
       " & reduction_{6} \\leq 1.0\\\\\n",
       " & reduction_{7} \\leq 1.0\\\\\n",
       " & reduction_{8} \\leq 0.0\\\\\n",
       " & reduction_{9} \\leq 2.0\\\\\n",
       " & reduction_{10} \\leq 1.0\\\\\n",
       " & reduction_{11} \\leq 1.0\\\\\n",
       " & reduction_{12} \\leq 0.0\\\\\n",
       " & reduction_{13} \\leq 0.0\\\\\n",
       " & reduction_{14} \\leq 2.0\\\\\n",
       " & reduction_{15} \\leq 2.0\\\\\n",
       " & reduction_{16} \\leq 1.0\\\\\n",
       " & reduction_{17} \\leq 3.0\\\\\n",
       " & reduction_{18} \\leq 0.0\\\\\n",
       "\\end{alignat*}\n",
       " $$"
      ],
      "text/plain": [
       "A JuMP Model\n",
       "Maximization problem with:\n",
       "Variables: 20\n",
       "Objective function type: GenericAffExpr{Float64,VariableRef}\n",
       "`VariableRef`-in-`MathOptInterface.GreaterThan{Float64}`: 20 constraints\n",
       "`VariableRef`-in-`MathOptInterface.LessThan{Float64}`: 1 constraint\n",
       "`GenericAffExpr{Float64,VariableRef}`-in-`MathOptInterface.EqualTo{Float64}`: 1 constraint\n",
       "`GenericAffExpr{Float64,VariableRef}`-in-`MathOptInterface.GreaterThan{Float64}`: 18 constraints\n",
       "`GenericAffExpr{Float64,VariableRef}`-in-`MathOptInterface.LessThan{Float64}`: 18 constraints\n",
       "Model mode: AUTOMATIC\n",
       "CachingOptimizer state: EMPTY_OPTIMIZER\n",
       "Solver name: GLPK\n",
       "Names registered in the model: reduction, t, totalSum"
      ]
     },
     "execution_count": 2,
     "metadata": {},
     "output_type": "execute_result"
    }
   ],
   "source": [
    "                                                                                                                                                                                                                                                                                                                                                                                                                                                                                                                                                                                                                                                                                                                                                                                                                                                                                                                                                                                                                                                                                                                                                                                                                                                                                                                                                                                                                                                                                                                                                                                                                                                                                                                                                                                                                                                                                                                                                                                                                                                                                                                                                                                                                                                                                                                                                                                                                                                                                                                                                                                                                                                                                                                                                                                                                                                                                                                                                                                                                                                                                                                                                                                                                                                                                                                                                                                                                                                                                                                                                                                                                                                                                                                                                                                                                                                                                                                            using JuMP, GLPK, LinearAlgebra\n",
    "tasks = 1:18\n",
    "durations = [2 16 9 8 10 6 2 2 9 5 3 2 1 7 4 3 9 1]\n",
    "predecessors = ([], [1], [2], [2], [3], [4,5], [4], [6], [4,6],\n",
    "                [4], [6], [9], [7], [2], [4,14], [8,11,14], [12], [17])\n",
    "comp = zeros(1,18)       # week complete of each task\n",
    "function minweek(dur)\n",
    "    for i=1:18\n",
    "        plus = 0\n",
    "        for j in predecessors[i]\n",
    "            if plus<comp[j]\n",
    "                plus = comp[j]\n",
    "            end\n",
    "        end\n",
    "        comp[i] = dur[i] + plus\n",
    "    end\n",
    "    return(maximum(comp))\n",
    "end\n",
    "println(((minweek(durations))))\n",
    "actualComp = comp\n",
    "println(actualComp)\n",
    "# print(maximum(comp))\n",
    "\n",
    "######## using linear programming\n",
    "# m = Model(with_optimizer(GLPK.Optimizer))\n",
    "# @variable(m, comp[1:18]>=0)\n",
    "# for i=1:18\n",
    "#     if size(predecessors[i])[1] == 0\n",
    "#         @constraint(m, comp[i] >= durations[i])\n",
    "#     elseif size(pre[i])[1] == 1\n",
    "#         @constraint(m, comp[i] >= durations[i] + comp[predecessors[i]])\n",
    "#     else\n",
    "#         for j in predecessors[i]\n",
    "#             @constraint(m, comp[i] >= durations[i] + comp[j])\n",
    "#         end\n",
    "#     end\n",
    "# end\n",
    "# @objective(m, Min, sum(comp[i]))\n",
    "# optimize!(m)\n",
    "# result = zeros(1,18)\n",
    "# for i=1:18\n",
    "#     println(value(comp[i]))\n",
    "#     result[i] += value(comp[i])\n",
    "# end\n",
    "# print(maximum(result))\n",
    "\n",
    "# additional columns of data (maximum reduction possible )\n",
    "max_reduction =  [0,  3,  1,  2,  2,  1, 1, 0,  2,  1,  1, 0, 0,  2,  2, 1,  3, 0] \n",
    "cost_reduction = [0, 30, 26, 12, 17, 15, 8, 0, 42, 21, 18, 0, 0, 22, 12, 6, 16, 0]   \n",
    "println(size(max_reduction))\n",
    "println(size(cost_reduction))\n",
    "bonus_amount = 30     # bonus for expediting the project ($1,000/week )\n",
    "m = Model(with_optimizer(GLPK.Optimizer))\n",
    "@variable(m, reduction[1:18]>=0)      # actual reduction weeks for each task\n",
    "@variable(m, 0<=t<=63)\n",
    "# @variable(m, totalSum >= 0)\n",
    "for i=1:18\n",
    "    @constraint(m, reduction[i] <= max_reduction[i])\n",
    "end\n",
    "println(size(reduction))\n",
    "# @constraint(m, totalSum == ((cost_reduction')*reduction))\n",
    "@objective(m, Max, 30*(63-t) - (cost_reduction')*reduction)\n",
    "# println(typeof(minweek(durations-reduction')))\n",
    "# @constraint(m, t==(minweek(dur)))\n",
    "for i=1:18\n",
    "    @constraint(m, t >= actualComp[i] - reduction[i] - sum(reduction[j] for j in predecessors[i]))\n",
    "end\n",
    "# @constraint(m, t==(maximum(actualComp - sumi)))\n",
    "@constraint(m, 30*(63-t) >= totalSum)\n",
    "m"
   ]
  },
  {
   "cell_type": "code",
   "execution_count": 20,
   "metadata": {},
   "outputs": [
    {
     "name": "stdout",
     "output_type": "stream",
     "text": [
      "0.0\n",
      "0.0\n",
      "0.0\n",
      "0.0\n",
      "0.0\n",
      "0.0\n",
      "0.0\n",
      "0.0\n",
      "0.0\n",
      "0.0\n",
      "0.0\n",
      "0.0\n",
      "0.0\n",
      "0.0\n",
      "0.0\n",
      "0.0\n",
      "3.0000000000000004\n",
      "0.0\n",
      "11.999999999999993\n"
     ]
    }
   ],
   "source": [
    "optimize!(m)\n",
    "for i=1:18\n",
    "    println(value(reduction[i]))\n",
    "end\n",
    "println(objective_value(m))"
   ]
  }
 ],
 "metadata": {
  "kernelspec": {
   "display_name": "Julia 1.0.4",
   "language": "julia",
   "name": "julia-1.0"
  },
  "language_info": {
   "file_extension": ".jl",
   "mimetype": "application/julia",
   "name": "julia",
   "version": "1.0.4"
  }
 },
 "nbformat": 4,
 "nbformat_minor": 2
}
