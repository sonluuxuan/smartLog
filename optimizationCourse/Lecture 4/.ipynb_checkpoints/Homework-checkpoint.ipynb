{
 "cells": [
  {
   "cell_type": "markdown",
   "metadata": {},
   "source": [
    "## Building a stadium\n",
    "A town council wishes to construct a small stadium in order to improve the services provided to the people living in the district. After the invitation to tender, a local construction company is awarded the contract and wishes to complete the task within the shortest possible time. All the major tasks are listed in the following table. Some tasks can only start after the completion of certain other tasks, as indicated by the \"Predecessors\" column.\n",
    "\n",
    "![](stad1.png)\n",
    "\n",
    "**a)** What is the earliest possible date of completion for the construction? Note that the last two columns of the table are not relevant for this part of the problem.\n",
    "\n",
    "**b)** The town council wants the builder to expedite the project. As an incentive, the council will pay a bonus of $\\$30$k/week for each week the work finishes early. To accomplish this, the builder may employ additional workers and rent more equipment to cut down on the total time. The last two columns of the table show the maximum number of weeks that can be saved per task and the associated additional cost per week incurred by the extra work. When will the project be completed if the builder is acting in a way that maximizes his profit?"
   ]
  },
  {
   "cell_type": "code",
   "execution_count": 31,
   "metadata": {},
   "outputs": [
    {
     "name": "stdout",
     "output_type": "stream",
     "text": [
      "(1, 18)\n"
     ]
    },
    {
     "ename": "MethodError",
     "evalue": "MethodError: Cannot `convert` an object of type GenericAffExpr{Float64,VariableRef} to an object of type Float64\nClosest candidates are:\n  convert(::Type{T<:Number}, !Matched::T<:Number) where T<:Number at number.jl:6\n  convert(::Type{T<:Number}, !Matched::Number) where T<:Number at number.jl:7\n  convert(::Type{T<:Number}, !Matched::Base.TwicePrecision) where T<:Number at twiceprecision.jl:250\n  ...",
     "output_type": "error",
     "traceback": [
      "MethodError: Cannot `convert` an object of type GenericAffExpr{Float64,VariableRef} to an object of type Float64\nClosest candidates are:\n  convert(::Type{T<:Number}, !Matched::T<:Number) where T<:Number at number.jl:6\n  convert(::Type{T<:Number}, !Matched::Number) where T<:Number at number.jl:7\n  convert(::Type{T<:Number}, !Matched::Base.TwicePrecision) where T<:Number at twiceprecision.jl:250\n  ...",
      "",
      "Stacktrace:",
      " [1] setindex!(::Array{Float64,2}, ::GenericAffExpr{Float64,VariableRef}, ::Int64) at ./array.jl:769",
      " [2] minweek(::Array{GenericAffExpr{Float64,VariableRef},2}) at ./In[31]:15",
      " [3] top-level scope at In[31]:38"
     ]
    }
   ],
   "source": [
    "using JuMP, GLPK, LinearAlgebra\n",
    "tasks = 1:18\n",
    "durations = [2 16 9 8 10 6 2 2 9 5 3 2 1 7 4 3 9 1]\n",
    "predecessors = ([], [1], [2], [2], [3], [4,5], [4], [6], [4,6],\n",
    "                [4], [6], [9], [7], [2], [4,14], [8,11,14], [12], [17])\n",
    "comp = zeros(1,18)       # week complete of each task\n",
    "function minweek(dur)\n",
    "    for i=1:18\n",
    "        plus = -1\n",
    "        for j in predecessors[i]\n",
    "            if plus<comp[j]\n",
    "                plus = comp[j]\n",
    "            end\n",
    "        end\n",
    "        comp[i] = dur[i] + plus\n",
    "        return(maximum(comp))\n",
    "    end\n",
    "end\n",
    "# print(maximum(comp))\n",
    "######### using linear programming\n",
    "# m = Model(with_optimizer(GLPK.Optimizer))\n",
    "# @variable(m, comp[1:18])\n",
    "# for i=1:18\n",
    "#     @constraint(m, comp[i])\n",
    "\n",
    "# additional columns of data (maximum reduction possible )\n",
    "max_reduction =  [0,  3,  1,  2,  2,  1, 1, 0,  2,  1,  1, 0, 0,  2,  2, 1,  3, 0] \n",
    "cost_reduction = [0, 30, 26, 12, 17, 15, 8, 0, 42, 21, 18, 0, 0, 22, 12, 6, 16, 0]   \n",
    "bonus_amount = 30     # bonus for expediting the project ($1,000/week )\n",
    "m = Model(with_optimizer(GLPK.Optimizer))\n",
    "@variable(m, reduction[1:18]>=0)      # actual reduction weeks for each task\n",
    "@variable(m, 0<=t<=63)\n",
    "for i=1:18\n",
    "    @constraint(m, reduction[i] <= max_reduction[i])\n",
    "end\n",
    "println(size(reduction'))\n",
    "@objective(m, Max, 30*(63-t) - sum(cost_reduction.*reduction))\n",
    "println(typeof(minweek(durations-reduction')))\n",
    "@constraint(m, t==minweek(durations-reduction'))\n",
    "@constraint(m, 30*(63-t) >= sum(cost_reduction.*reduction))\n",
    "# m"
   ]
  },
  {
   "cell_type": "markdown",
   "metadata": {},
   "source": [
    "## Museum site planning\n",
    "\n",
    "A site is being investigated as a potential location for a new museum. An aerial plan of the site is shown in the figure below (in units of feet). The museum will have a circular footprint and law mandates that there be at least 50 feet of clearance between the building and any edge of the site. If we want the largest possible museum, where should it be located? What is its optimal radius?\n",
    "\n",
    "![](museum.png)"
   ]
  },
  {
   "cell_type": "code",
   "execution_count": 9,
   "metadata": {},
   "outputs": [],
   "source": [
    "## your code goes here"
   ]
  },
  {
   "cell_type": "markdown",
   "metadata": {},
   "source": [
    "## Virginia Prestress (VP) location\n",
    "VP was planning for production of a new product: concrete utility poles. That production required a new concrete casting area to make poles and a storage area for finished products.\n",
    "\n",
    "Figure bellow presents the implied facilities location problem for our fictitious case. The two new facilities will interact with each other and with three existing operations: the concrete batching facility, where premixed concrete is prepared, the steel area, where reinforcing steel is manufactured, and the shipping gate, where finished poles are processed out of the plant. A coordinate system quantifies the locations of all three existing facilities, and the adjoining table displays material handling costs of expected traffic between facilities. For example, each foot of distance between the pole storage area and the shipping gate adds $\\$0.40$ in crane activity. We must choose locations for the new facilities to minimize total material handling cost. Note that the facilities design use [Manhattan distance](https://vi.wikipedia.org/wiki/Kho%E1%BA%A3ng_c%C3%A1ch_Manhattan).\n",
    "\n",
    "![](vp1.png)"
   ]
  },
  {
   "cell_type": "code",
   "execution_count": null,
   "metadata": {},
   "outputs": [],
   "source": [
    "## your code goes here"
   ]
  }
 ],
 "metadata": {
  "kernelspec": {
   "display_name": "Julia 1.0.4",
   "language": "julia",
   "name": "julia-1.0"
  },
  "language_info": {
   "file_extension": ".jl",
   "mimetype": "application/julia",
   "name": "julia",
   "version": "1.0.4"
  }
 },
 "nbformat": 4,
 "nbformat_minor": 2
}
