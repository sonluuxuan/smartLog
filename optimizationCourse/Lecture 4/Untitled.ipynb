{
 "cells": [
  {
   "cell_type": "code",
   "execution_count": 26,
   "metadata": {},
   "outputs": [
    {
     "data": {
      "text/latex": [
       "$$ \\begin{alignat*}{1}\\min\\quad & comp_{1} + comp_{2} + comp_{3} + comp_{4} + comp_{5} + comp_{6} + comp_{7} + comp_{8} + comp_{9} + comp_{10} + comp_{11} + comp_{12} + comp_{13} + comp_{14} + comp_{15} + comp_{16} + comp_{17} + comp_{18}\\\\\n",
       "\\text{Subject to} \\quad & comp_{1} \\geq 0.0\\\\\n",
       " & comp_{2} \\geq 0.0\\\\\n",
       " & comp_{3} \\geq 0.0\\\\\n",
       " & comp_{4} \\geq 0.0\\\\\n",
       " & comp_{5} \\geq 0.0\\\\\n",
       " & comp_{6} \\geq 0.0\\\\\n",
       " & comp_{7} \\geq 0.0\\\\\n",
       " & comp_{8} \\geq 0.0\\\\\n",
       " & comp_{9} \\geq 0.0\\\\\n",
       " & comp_{10} \\geq 0.0\\\\\n",
       " & comp_{11} \\geq 0.0\\\\\n",
       " & comp_{12} \\geq 0.0\\\\\n",
       " & comp_{13} \\geq 0.0\\\\\n",
       " & comp_{14} \\geq 0.0\\\\\n",
       " & comp_{15} \\geq 0.0\\\\\n",
       " & comp_{16} \\geq 0.0\\\\\n",
       " & comp_{17} \\geq 0.0\\\\\n",
       " & comp_{18} \\geq 0.0\\\\\n",
       " & comp_{1} \\geq 2.0\\\\\n",
       " & comp_{2} - comp_{1} \\geq 16.0\\\\\n",
       " & comp_{3} - comp_{2} \\geq 9.0\\\\\n",
       " & comp_{4} - comp_{2} \\geq 8.0\\\\\n",
       " & comp_{5} - comp_{3} \\geq 10.0\\\\\n",
       " & comp_{6} - comp_{4} \\geq 6.0\\\\\n",
       " & comp_{6} - comp_{5} \\geq 6.0\\\\\n",
       " & comp_{7} - comp_{4} \\geq 2.0\\\\\n",
       " & comp_{8} - comp_{6} \\geq 2.0\\\\\n",
       " & comp_{9} - comp_{4} \\geq 9.0\\\\\n",
       " & comp_{9} - comp_{6} \\geq 9.0\\\\\n",
       " & comp_{10} - comp_{4} \\geq 5.0\\\\\n",
       " & comp_{11} - comp_{6} \\geq 3.0\\\\\n",
       " & comp_{12} - comp_{9} \\geq 2.0\\\\\n",
       " & comp_{13} - comp_{7} \\geq 1.0\\\\\n",
       " & comp_{14} - comp_{2} \\geq 7.0\\\\\n",
       " & comp_{15} - comp_{4} \\geq 4.0\\\\\n",
       " & comp_{15} - comp_{14} \\geq 4.0\\\\\n",
       " & comp_{16} - comp_{8} \\geq 3.0\\\\\n",
       " & comp_{16} - comp_{11} \\geq 3.0\\\\\n",
       " & comp_{16} - comp_{14} \\geq 3.0\\\\\n",
       " & comp_{17} - comp_{12} \\geq 9.0\\\\\n",
       " & comp_{18} - comp_{17} \\geq 1.0\\\\\n",
       "\\end{alignat*}\n",
       " $$"
      ],
      "text/plain": [
       "A JuMP Model\n",
       "Minimization problem with:\n",
       "Variables: 18\n",
       "Objective function type: GenericAffExpr{Float64,VariableRef}\n",
       "`VariableRef`-in-`MathOptInterface.GreaterThan{Float64}`: 18 constraints\n",
       "`GenericAffExpr{Float64,VariableRef}`-in-`MathOptInterface.GreaterThan{Float64}`: 23 constraints\n",
       "Model mode: AUTOMATIC\n",
       "CachingOptimizer state: EMPTY_OPTIMIZER\n",
       "Solver name: GLPK\n",
       "Names registered in the model: comp"
      ]
     },
     "execution_count": 26,
     "metadata": {},
     "output_type": "execute_result"
    }
   ],
   "source": [
    "using JuMP, GLPK, LinearAlgebra\n",
    "tasks = 1:18\n",
    "durations = [2 16 9 8 10 6 2 2 9 5 3 2 1 7 4 3 9 1]\n",
    "predecessors = ([], [1], [2], [2], [3], [4,5], [4], [6], [4,6],\n",
    "                [4], [6], [9], [7], [2], [4,14], [8,11,14], [12], [17])\n",
    "comp = zeros(1,18)       # week complete of each task\n",
    "m = Model(with_optimizer(GLPK.Optimizer))\n",
    "@variable(m, comp[1:18]>=0)\n",
    "for i=1:18\n",
    "    if size(predecessors[i])[1] == 0\n",
    "        @constraint(m, comp[i] >= durations[i])\n",
    "    elseif size(pre[i])[1] == 1\n",
    "        @constraint(m, comp[i] >= durations[i] + comp[predecessors[i][1]])\n",
    "    else\n",
    "        for j in predecessors[i]\n",
    "            @constraint(m, comp[i] >= durations[i] + comp[j])\n",
    "        end\n",
    "    end\n",
    "end\n",
    "@objective(m, Min, sum(comp))\n",
    "m"
   ]
  },
  {
   "cell_type": "code",
   "execution_count": 30,
   "metadata": {},
   "outputs": [
    {
     "name": "stdout",
     "output_type": "stream",
     "text": [
      "2.0\n",
      "18.0\n",
      "27.0\n",
      "26.0\n",
      "37.0\n",
      "43.0\n",
      "28.0\n",
      "45.0\n",
      "52.0\n",
      "31.0\n",
      "46.0\n",
      "54.0\n",
      "29.0\n",
      "25.0\n",
      "30.0\n",
      "49.0\n",
      "63.0\n",
      "64.0\n",
      "64.0"
     ]
    }
   ],
   "source": [
    "optimize!(m)\n",
    "result = zeros(1,18)\n",
    "for i=1:18\n",
    "    println(value(comp[i]))\n",
    "    result[i] += value(comp[i])\n",
    "end\n",
    "print(maximum(result))"
   ]
  },
  {
   "cell_type": "code",
   "execution_count": 31,
   "metadata": {},
   "outputs": [
    {
     "name": "stdout",
     "output_type": "stream",
     "text": [
      "64.0\n",
      "[2.0 18.0 27.0 26.0 37.0 43.0 28.0 45.0 52.0 31.0 46.0 54.0 29.0 25.0 30.0 49.0 63.0 64.0]\n"
     ]
    }
   ],
   "source": [
    "using JuMP, GLPK, LinearAlgebra\n",
    "tasks = 1:18\n",
    "durations = [2 16 9 8 10 6 2 2 9 5 3 2 1 7 4 3 9 1]\n",
    "predecessors = ([], [1], [2], [2], [3], [4,5], [4], [6], [4,6],\n",
    "                [4], [6], [9], [7], [2], [4,14], [8,11,14], [12], [17])\n",
    "comp = zeros(1,18)       # week complete of each task\n",
    "for i=1:18\n",
    "    plus = 0\n",
    "    for j in predecessors[i]\n",
    "        if plus<comp[j]\n",
    "            plus = comp[j]\n",
    "        end\n",
    "    end\n",
    "    comp[i] = durations[i] + plus\n",
    "end\n",
    "println(maximum(comp))\n",
    "println(comp)"
   ]
  },
  {
   "cell_type": "code",
   "execution_count": 7,
   "metadata": {},
   "outputs": [
    {
     "name": "stdout",
     "output_type": "stream",
     "text": [
      "(3,)\n",
      "[1 2 3]\n",
      "(1, 3)\n",
      "20\n",
      "(2,)\n"
     ]
    }
   ],
   "source": [
    "a = [1; 2; 3]\n",
    "b = [2, 3, 4]\n",
    "c = [-1 0; 0 1; 0 -1; 3 -1; 2/3 1]\n",
    "println(size(a))\n",
    "println(a')\n",
    "println(size(a'))\n",
    "println(a'*b)\n",
    "println(size(c[1,:]))"
   ]
  }
 ],
 "metadata": {
  "kernelspec": {
   "display_name": "Julia 1.1.1",
   "language": "julia",
   "name": "julia-1.1"
  },
  "language_info": {
   "file_extension": ".jl",
   "mimetype": "application/julia",
   "name": "julia",
   "version": "1.1.1"
  }
 },
 "nbformat": 4,
 "nbformat_minor": 2
}
