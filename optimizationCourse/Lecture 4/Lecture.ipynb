{
 "cells": [
  {
   "cell_type": "markdown",
   "metadata": {},
   "source": [
    "#  Models with Linearizable Nonlinear Objectives\n",
    "\n",
    "Nonlinearity is often unavoidable, but some frequently occurring nonlinear objective functions are exceptions. We introduce in this section those piecewise linear, minimax, maximin, and absolute value objective functions which though nonlinear at first glance can be modeled with a linear objective function and linear constraints.\n",
    "\n",
    "## Remind: Linear Programming and Polyhedra\n",
    "\n",
    "Linear programs have polyhedral feasible sets:\n",
    "\n",
    "$$\\{x|Ax \\leq b\\}$$\n",
    "\n",
    "As a polyhera:\n",
    "\n",
    "![](poly1.png)\n",
    "\n",
    "So, Can every polyhedron be expressed $Ax\\leq b$?\n",
    "\n",
    "Not this one:\n",
    "\n",
    "![](poly2.png)\n",
    "\n",
    "=> This is non-convex polyhera\n",
    "\n",
    "### Convex polyhedra\n",
    "\n",
    "Remark:\n",
    "\n",
    "If $x,y\\in R^n$, then the combination:\n",
    "$$w=\\alpha x+(1-\\alpha)y$$\n",
    "for some $0<\\alpha <1$ is called **convex combinations**. It’s the line segment that connects x and y\n",
    "\n",
    "> Theorem: If $Ax\\leq b$ and $Ay\\leq b$, and w is a convex combination of x and y, then $Aw\\leq b$.\n",
    "\n",
    "**Proof:** Suppose $w=\\alpha x+(1-\\alpha)y$\n",
    "\\begin{align}\n",
    "Aw&=A(\\alpha x+(1-\\alpha)y)\\\\\n",
    "&=\\alpha Ax + (1-\\alpha)Ay\\\\\n",
    "&\\leq \\alpha b+(1-\\alpha)b\\\\\n",
    "&=b\n",
    "\\end{align}\n",
    "\n",
    "Thus, $Aw\\leq b$.\n",
    "\n",
    "The previous result implies that every polyhedron describe able as $Ax\\leq b$ must contain all convex combinations of its points.\n",
    "* Such polyhedra are called **convex**\n",
    "* Informal definition:  if you were to “shrink-wrap” it, the entire polyhedron would be covered with no extra space.\n",
    "\n",
    ">Goes  the  other  way  too: every  convex  polyhedron  can  be represented as $Ax\\leq b$ for appropriately chosen A and b.\n",
    "\n",
    "## Piecewise linear functions\n",
    "\n",
    "Some problems do not appear to be LPs but can beconverted to LPs using a suitable transformation. An important case will be **convex piecewise linear functions**.\n",
    "\n",
    "Consider the following **non-linear** optimization:\n",
    "\\begin{align}\n",
    "&\\min_x \\quad f(x)\\\\\n",
    "&\\text{s.t.} \\\\\n",
    "&\\qquad x\\geq 0\n",
    "\\end{align}\n",
    "\n",
    "where $f(x)$ is:\n",
    "\n",
    "![](pw1.png)\n",
    "\n",
    "The trick is to convert the problem into **epigraph** form: add an extra decision variable t and turn the cost into a constraint.\n",
    "\n",
    "\\begin{align}\n",
    "&\\min_{x,t} \\quad t\\\\\n",
    "&\\text{s.t.} \\\\\n",
    "&\\qquad t\\geq f(x)\\\\\n",
    "&\\qquad x\\geq 0\n",
    "\\end{align}\n",
    "\n",
    "![](pw2.png)\n",
    "\n",
    "This feasible set is **polyhedral**.  It is the set of $(x,t)$ satisfying:\n",
    "$$\\{t\\geq -2x+3, t\\geq -\\frac{1}{2}x+\\frac{3}{2}, t\\geq 3x-9\\}$$\n",
    "\n",
    "The linear programming:\n",
    "\n",
    "\\begin{align}\n",
    "&\\min_{x,t} \\quad t\\\\\n",
    "&\\text{s.t.} \\\\\n",
    "&\\qquad t\\geq -2x+3\\\\\n",
    "&\\qquad t\\geq -\\frac{1}{2}x+\\frac{3}{2}\\\\\n",
    "&\\qquad t\\geq 3x-9\\\\\n",
    "&\\qquad x\\geq 0\n",
    "\\end{align}\n",
    "\n",
    "**Julia Code**"
   ]
  },
  {
   "cell_type": "code",
   "execution_count": 1,
   "metadata": {},
   "outputs": [
    {
     "data": {
      "text/latex": [
       "$$ \\begin{alignat*}{1}\\min\\quad & t\\\\\n",
       "\\text{Subject to} \\quad & x \\geq 0.0\\\\\n",
       " & t + 2 x \\geq 3.0\\\\\n",
       " & t + 0.5 x \\geq 1.5\\\\\n",
       " & t - 3 x \\geq -9.0\\\\\n",
       "\\end{alignat*}\n",
       " $$"
      ],
      "text/plain": [
       "A JuMP Model\n",
       "Minimization problem with:\n",
       "Variables: 2\n",
       "Objective function type: VariableRef\n",
       "`VariableRef`-in-`MathOptInterface.GreaterThan{Float64}`: 1 constraint\n",
       "`GenericAffExpr{Float64,VariableRef}`-in-`MathOptInterface.GreaterThan{Float64}`: 3 constraints\n",
       "Model mode: AUTOMATIC\n",
       "CachingOptimizer state: EMPTY_OPTIMIZER\n",
       "Solver name: GLPK\n",
       "Names registered in the model: t, x"
      ]
     },
     "execution_count": 1,
     "metadata": {},
     "output_type": "execute_result"
    }
   ],
   "source": [
    "using JuMP, GLPK, LinearAlgebra\n",
    "\n",
    "m = Model(with_optimizer(GLPK.Optimizer))\n",
    "@variable(m, t)\n",
    "@variable(m, x>=0)\n",
    "@constraint(m, t >= -2*x+3)\n",
    "@constraint(m, t >= -1/2*x+3/2)\n",
    "@constraint(m, t >= 3*x-9)\n",
    "@objective(m, Min, t)\n",
    "m"
   ]
  },
  {
   "cell_type": "code",
   "execution_count": 3,
   "metadata": {},
   "outputs": [
    {
     "name": "stdout",
     "output_type": "stream",
     "text": [
      "x = 3.0\n",
      "objective = 0.0\n"
     ]
    }
   ],
   "source": [
    "optimize!(m)\n",
    "println(\"x = \", value(x))\n",
    "println(\"objective = \", objective_value(m))"
   ]
  },
  {
   "cell_type": "markdown",
   "metadata": {},
   "source": [
    ">Epigraph trick only works if it’s a convex polyhedron.\n",
    "\n",
    "![](pw3.png)\n",
    "\n",
    "This epigraph is not a **convex polyhedron** so it cannot be the feasible set of a linear program."
   ]
  },
  {
   "cell_type": "markdown",
   "metadata": {},
   "source": [
    "## Minimax and Maximin Problem\n",
    "\n",
    "The maximum of several linear functions is always **convex**.So we can minimize it using the epigraph trick.  Example:\n",
    "\n",
    "$$f(x)=\\max_{i=1,..,k}\\{a_i^Tx+b_i\\}$$\n",
    "\n",
    "![](mini1.png)\n",
    "\n",
    "\\begin{align}\n",
    "&\\min_x \\quad \\max_{i=1,..,k}\\{a_i^Tx+b_i\\}\n",
    "\\end{align}\n",
    "\n",
    "=> \n",
    "\\begin{align}\n",
    "&\\min_{x,t} \\quad t\\\\\n",
    "&\\text{s.t.} \\\\\n",
    "&\\qquad t\\geq a_i^Tx+b_i \\quad \\forall i\\\\\n",
    "\\end{align}\n",
    "\n",
    "Similarly, the maximin problem:\n",
    "\n",
    "![](mini2.png)\n",
    "\n",
    "\\begin{align}\n",
    "&\\max_x \\quad \\min_{i=1,..,k}\\{a_i^Tx+b_i\\}\n",
    "\\end{align}\n",
    "\n",
    "=> \n",
    "\\begin{align}\n",
    "&\\max_{x,t} \\quad t\\\\\n",
    "&\\text{s.t.} \\\\\n",
    "&\\qquad t\\leq a_i^Tx+b_i \\quad \\forall i\\\\\n",
    "\\end{align}\n",
    "\n",
    "**NOTE**: As you can see in two above figures, minimax != maximin"
   ]
  },
  {
   "cell_type": "markdown",
   "metadata": {},
   "source": [
    "### Chebyshev center\n",
    "\n",
    "What is the largest sphere you can fit inside a polyhedron?\n",
    "\n",
    "If $y$ is the center, then draw perpendicular lines to each face of the polyhedron. We want to maximize the smallest $d_i$.  In other words,\n",
    "\n",
    "\\begin{align}\n",
    "&\\max_y \\quad \\min_{i=1,..,k}d_i(y)\n",
    "\\end{align}\n",
    "\n",
    "![](cheb.png)\n",
    "\n",
    "The optimal $y$ is the **Chebyshev center**\n",
    "\n",
    "To compute the distance between $y$ and the hyperplane $a^Tx=b$, notice that if the distance is $r$, then $y+\\frac{r}{||a||}a$ belong to the hyperplane:\n",
    "$$a^T\\big(y+\\frac{r}{||a||}a\\big)=b$$\n",
    "Simplifying, we obtain:\n",
    "$$a^Ty+||a||r=b$$\n",
    "There, the statement “The distance between $y$ and each hyperplane is at least $r$” is equivalent to \n",
    "$$a_i^Ty+||a_i||r\\leq b_i \\quad \\forall i$$\n",
    "\n",
    "The transformation of **Chebyshev center problem** to an LP is given by:\n",
    "\\begin{align}\n",
    "&\\max_y \\quad \\min_{i=1,..,k}d_i(y)\\\\\n",
    "&\\text{s.t.} \\\\\n",
    "&\\qquad a_i^Ty \\leq b_i \\quad \\forall i\\\\\n",
    "\\end{align}\n",
    "=> \n",
    "\\begin{align}\n",
    "&\\max_{y,r} r\\\\\n",
    "&\\text{s.t.} \\\\\n",
    "&\\qquad a_i^Ty+||a_i||r\\leq b_i \\quad \\forall i\\\\\n",
    "\\end{align}\n",
    "\n",
    "**Example:** Find the Chebyshev center of the polyhedrondefined by the following inequalities:\n",
    "$$2x−y+ 2z\\leq 2,−x+ 2y+ 4z\\leq 16,x+ 2y−2z\\leq 8$$\n",
    "$$x,y,z \\geq 0$$\n",
    "\n",
    "![](cheb2.png)\n",
    "\n",
    "**Julia Code**"
   ]
  },
  {
   "cell_type": "code",
   "execution_count": 5,
   "metadata": {},
   "outputs": [
    {
     "data": {
      "text/latex": [
       "$$ \\begin{alignat*}{1}\\max\\quad & r\\\\\n",
       "\\text{Subject to} \\quad & r \\geq 0.0\\\\\n",
       " & 2 x_{1} - x_{2} + 2 x_{3} + 3 r \\leq 2.0\\\\\n",
       " & -x_{1} + 2 x_{2} + 4 x_{3} + 4.58257569495584 r \\leq 16.0\\\\\n",
       " & x_{1} + 2 x_{2} - 2 x_{3} + 3 r \\leq 8.0\\\\\n",
       " & -x_{1} + r \\leq 0.0\\\\\n",
       " & -x_{2} + r \\leq 0.0\\\\\n",
       " & -x_{3} + r \\leq 0.0\\\\\n",
       "\\end{alignat*}\n",
       " $$"
      ],
      "text/plain": [
       "A JuMP Model\n",
       "Maximization problem with:\n",
       "Variables: 4\n",
       "Objective function type: VariableRef\n",
       "`VariableRef`-in-`MathOptInterface.GreaterThan{Float64}`: 1 constraint\n",
       "`GenericAffExpr{Float64,VariableRef}`-in-`MathOptInterface.LessThan{Float64}`: 6 constraints\n",
       "Model mode: AUTOMATIC\n",
       "CachingOptimizer state: EMPTY_OPTIMIZER\n",
       "Solver name: GLPK\n",
       "Names registered in the model: r, x"
      ]
     },
     "execution_count": 5,
     "metadata": {},
     "output_type": "execute_result"
    }
   ],
   "source": [
    "A = [2 -1 2; -1 2 4; 1 2 -2; -1 0 0; 0 -1 0; 0 0 -1];\n",
    "b = [2; 16; 8; 0; 0; 0]\n",
    "m = Model(with_optimizer(GLPK.Optimizer))\n",
    "@variable(m, r >= 0)           # radius\n",
    "@variable(m, x[1:3])           # coordinates of center\n",
    "for i = 1:size(A,1)\n",
    "    @constraint(m, A[i,:]'*x + r*norm(A[i,:]) <= b[i])\n",
    "end\n",
    "@objective(m, Max, r)     # maximize radius\n",
    "m"
   ]
  },
  {
   "cell_type": "code",
   "execution_count": 11,
   "metadata": {},
   "outputs": [
    {
     "name": "stdout",
     "output_type": "stream",
     "text": [
      "The coordinates of the Chebyshev center are: 0.75,3.2500000000000004,0.75\n",
      "The largest possible radius is: 0.75\n"
     ]
    }
   ],
   "source": [
    "optimize!(m)\n",
    "println(\"The coordinates of the Chebyshev center are: \", value(x[1]),',',value(x[2]),',',value(x[3]))\n",
    "println(\"The largest possible radius is: \", objective_value(m))"
   ]
  },
  {
   "cell_type": "markdown",
   "metadata": {},
   "source": [
    "## Absolute values\n",
    "\n",
    "Absolute values are piecewise linear, we can treat them by:\n",
    "\n",
    "\\begin{align}\n",
    "&\\min_x |x|\\\\\n",
    "&\\text{s.t.} \\\\\n",
    "&\\qquad Ax \\leq b\\\\\n",
    "\\end{align}\n",
    "=> \n",
    "\\begin{align}\n",
    "&\\min_{x,t} t\\\\\n",
    "&\\text{s.t.} \\\\\n",
    "&\\qquad Ax \\leq b\\\\\n",
    "&\\qquad t \\geq x \\\\\n",
    "&\\qquad t \\geq -x\n",
    "\\end{align}\n",
    "\n",
    "So are sums of absolute values:\n",
    "\\begin{align}\n",
    "&\\min_{x,y} |x|+|y|\\\\\n",
    "\\end{align}\n",
    "=> \n",
    "\\begin{align}\n",
    "&\\min_{x,y,t,r} t+r\\\\\n",
    "&\\text{s.t.} \\\\\n",
    "&\\qquad t \\geq x \\\\\n",
    "&\\qquad t \\geq -x\\\\\n",
    "&\\qquad r \\geq y \\\\\n",
    "&\\qquad r \\geq -y\n",
    "\\end{align}"
   ]
  },
  {
   "cell_type": "code",
   "execution_count": 3,
   "metadata": {},
   "outputs": [
    {
     "name": "stdout",
     "output_type": "stream",
     "text": [
      "2.0\n",
      "2.0\n"
     ]
    }
   ],
   "source": [
    "using GLPK, JuMP, LinearAlgebra\n",
    "m = Model(with_optimizer(GLPK.Optimizer))\n",
    "@variable(m, t)\n",
    "@variable(m, x)\n",
    "@constraint(m, 2*x>=4)\n",
    "@constraint(m,t>=x)\n",
    "@constraint(m,t>=-x)\n",
    "optimize!(m)\n",
    "println(value(t))\n",
    "println(value(x))"
   ]
  }
 ],
 "metadata": {
  "kernelspec": {
   "display_name": "Julia 1.0.4",
   "language": "julia",
   "name": "julia-1.0"
  },
  "language_info": {
   "file_extension": ".jl",
   "mimetype": "application/julia",
   "name": "julia",
   "version": "1.0.4"
  }
 },
 "nbformat": 4,
 "nbformat_minor": 2
}
