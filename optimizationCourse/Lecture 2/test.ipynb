{
 "cells": [
  {
   "cell_type": "code",
   "execution_count": 13,
   "metadata": {},
   "outputs": [
    {
     "name": "stdout",
     "output_type": "stream",
     "text": [
      "Int32[0 0 0 0 0 0 0; 0 0 0 0 0 0 0; 0 0 0 0 0 0 0]\n",
      "Int32[1 1 1 1 1 1 1; 1 1 1 1 1 1 1; 1 1 1 1 1 1 1]\n"
     ]
    },
    {
     "data": {
      "text/plain": [
       "3×7 Array{Int32,2}:\n",
       " 1  1  1  1  1  1  1\n",
       " 1  1  1  1  1  1  1\n",
       " 1  1  1  1  1  1  1"
      ]
     },
     "execution_count": 13,
     "metadata": {},
     "output_type": "execute_result"
    }
   ],
   "source": [
    "using LinearAlgebra, JuMP, GLPK\n",
    "x = zeros(Int32, 3,7)\n",
    "println(x)\n",
    "for i=1:3\n",
    "    for j=1:7\n",
    "        x[i,j] = 1\n",
    "    end\n",
    "end\n",
    "println(x)\n",
    "x"
   ]
  },
  {
   "cell_type": "code",
   "execution_count": 16,
   "metadata": {},
   "outputs": [
    {
     "data": {
      "text/plain": [
       "7×3 Array{Int64,2}:\n",
       " 503  140  203\n",
       " 675  100   45\n",
       " 630  105   40\n",
       " 330   40  295\n",
       " 105  460  120\n",
       " 490   55  180\n",
       " 705   60  400"
      ]
     },
     "execution_count": 16,
     "metadata": {},
     "output_type": "execute_result"
    }
   ],
   "source": [
    "p=[503 140 203; 675 100 45; 630 105 40; 330 40 295; 105 460 120; 490 55 180; 705 60 400]\n",
    "p"
   ]
  },
  {
   "cell_type": "code",
   "execution_count": 21,
   "metadata": {},
   "outputs": [
    {
     "data": {
      "text/latex": [
       "$$ \\begin{alignat*}{1}\\max\\quad & -340 w_{1,1,1} - 490 w_{2,1,1} - 190 w_{1,2,1} - 140 w_{2,2,1} - 340 w_{1,1,2} - 490 w_{2,1,2} - 190 w_{1,2,2} - 140 w_{2,2,2} - x_{1,1} - 2.2 x_{2,1} - 0.3 x_{1,2} - 0.6 x_{2,2} - 0.1 x_{1,3} - 0.2 x_{2,3} + 45 z_{1,1} + 75 z_{2,1} + 40 z_{1,2} + 65 z_{2,2} + 33 z_{1,3} + 50 z_{2,3}\\\\\n",
       "\\text{Subject to} \\quad & w_{1,1,1} \\geq 0.0\\\\\n",
       " & w_{1,1,2} \\geq 0.0\\\\\n",
       " & w_{1,2,1} \\geq 0.0\\\\\n",
       " & w_{1,2,2} \\geq 0.0\\\\\n",
       " & w_{2,1,1} \\geq 0.0\\\\\n",
       " & w_{2,1,2} \\geq 0.0\\\\\n",
       " & w_{2,2,1} \\geq 0.0\\\\\n",
       " & w_{2,2,2} \\geq 0.0\\\\\n",
       " & x_{1,1} \\geq 0.0\\\\\n",
       " & x_{1,2} \\geq 0.0\\\\\n",
       " & x_{1,3} \\geq 0.0\\\\\n",
       " & x_{2,1} \\geq 0.0\\\\\n",
       " & x_{2,2} \\geq 0.0\\\\\n",
       " & x_{2,3} \\geq 0.0\\\\\n",
       " & y_{1,1,1} \\geq 0.0\\\\\n",
       " & y_{1,1,2} \\geq 0.0\\\\\n",
       " & y_{1,1,3} \\geq 0.0\\\\\n",
       " & y_{1,2,1} \\geq 0.0\\\\\n",
       " & y_{1,2,2} \\geq 0.0\\\\\n",
       " & y_{1,2,3} \\geq 0.0\\\\\n",
       " & y_{1,3,1} \\geq 0.0\\\\\n",
       " & y_{1,3,2} \\geq 0.0\\\\\n",
       " & y_{1,3,3} \\geq 0.0\\\\\n",
       " & y_{2,1,1} \\geq 0.0\\\\\n",
       " & y_{2,1,2} \\geq 0.0\\\\\n",
       " & y_{2,1,3} \\geq 0.0\\\\\n",
       " & y_{2,2,1} \\geq 0.0\\\\\n",
       " & y_{2,2,2} \\geq 0.0\\\\\n",
       " & y_{2,2,3} \\geq 0.0\\\\\n",
       " & y_{2,3,1} \\geq 0.0\\\\\n",
       " & y_{2,3,2} \\geq 0.0\\\\\n",
       " & y_{2,3,3} \\geq 0.0\\\\\n",
       " & z_{1,1} \\geq 0.0\\\\\n",
       " & z_{1,2} \\geq 0.0\\\\\n",
       " & z_{1,3} \\geq 0.0\\\\\n",
       " & z_{2,1} \\geq 0.0\\\\\n",
       " & z_{2,2} \\geq 0.0\\\\\n",
       " & z_{2,3} \\geq 0.0\\\\\n",
       " & y_{1,1,1} + y_{1,2,1} - z_{1,1} - z_{2,1} - z_{1,2} - z_{2,2} = 0.0\\\\\n",
       " & y_{1,1,2} + y_{1,2,2} + y_{1,3,2} - z_{1,1} - z_{2,1} - z_{1,3} - z_{2,3} = 0.0\\\\\n",
       " & y_{1,2,3} + y_{1,3,3} - z_{1,2} - z_{2,2} - z_{1,3} - z_{2,3} = 0.0\\\\\n",
       " & y_{2,1,2} + y_{2,2,2} + y_{2,3,2} - z_{2,1} - z_{2,2} - z_{2,3} = 0.0\\\\\n",
       " & y_{2,2,3} + y_{2,3,3} - z_{1,1} - z_{1,2} - z_{1,3} - 2 z_{2,1} - 2 z_{2,2} - 2 z_{2,3} = 0.0\\\\\n",
       " & 400 w_{1,1,1} + 200 w_{2,1,1} + 400 w_{1,2,1} + 200 w_{2,2,1} + x_{1,1} - 35 y_{1,1,1} - 35 y_{1,1,2} \\geq 0.0\\\\\n",
       " & 700 w_{1,1,1} + 500 w_{2,1,1} + 700 w_{1,2,1} + 500 w_{2,2,1} + x_{1,2} - 35 y_{1,2,1} - 35 y_{1,2,2} - 35 y_{1,2,3} \\geq 0.0\\\\\n",
       " & 900 w_{1,1,1} + 1300 w_{2,1,1} + 900 w_{1,2,1} + 1300 w_{2,2,1} + x_{1,3} - 35 y_{1,3,2} - 35 y_{1,3,3} \\geq 0.0\\\\\n",
       " & 200 w_{1,1,2} + 100 w_{2,1,2} + 200 w_{1,2,2} + 100 w_{2,2,2} + x_{2,1} - 35 y_{2,1,1} - 35 y_{2,1,2} \\geq 0.0\\\\\n",
       " & 350 w_{1,1,2} + 250 w_{2,1,2} + 350 w_{1,2,2} + 250 w_{2,2,2} + x_{2,1} - 35 y_{2,2,1} - 35 y_{2,2,2} - 35 y_{2,2,3} \\geq 0.0\\\\\n",
       " & 450 w_{1,1,2} + 650 w_{2,1,2} + 450 w_{1,2,2} + 650 w_{2,2,2} + x_{2,1} - 35 y_{2,3,2} - 35 y_{2,3,3} \\geq 0.0\\\\\n",
       " & w_{1,1,1} + w_{1,1,2} \\leq 200.0\\\\\n",
       " & w_{1,2,1} + w_{1,2,2} \\leq 100.0\\\\\n",
       " & w_{2,1,1} + w_{2,1,2} \\leq 300.0\\\\\n",
       " & w_{2,2,1} + w_{2,2,2} \\leq 1000.0\\\\\n",
       " & x_{1,1} \\leq 5000.0\\\\\n",
       " & z_{1,1} \\leq 1000.0\\\\\n",
       " & x_{1,2} \\leq 25000.0\\\\\n",
       " & z_{1,2} \\leq 4000.0\\\\\n",
       " & x_{1,3} \\leq 40000.0\\\\\n",
       " & z_{1,3} \\leq 8000.0\\\\\n",
       " & x_{2,1} \\leq 10000.0\\\\\n",
       " & z_{2,1} \\leq 1000.0\\\\\n",
       " & x_{2,2} \\leq 40000.0\\\\\n",
       " & z_{2,2} \\leq 5000.0\\\\\n",
       " & x_{2,3} \\leq 50000.0\\\\\n",
       " & z_{2,3} \\leq 8000.0\\\\\n",
       " & 0.25 z_{1,1} + 0.25 z_{1,2} + 0.25 z_{1,3} + 0.4 z_{2,1} + 0.4 z_{2,2} + 0.4 z_{2,3} \\leq 4500.0\\\\\n",
       "\\end{alignat*}\n",
       " $$"
      ],
      "text/plain": [
       "A JuMP Model\n",
       "Maximization problem with:\n",
       "Variables: 38\n",
       "Objective function type: GenericAffExpr{Float64,VariableRef}\n",
       "`VariableRef`-in-`MathOptInterface.GreaterThan{Float64}`: 38 constraints\n",
       "`GenericAffExpr{Float64,VariableRef}`-in-`MathOptInterface.EqualTo{Float64}`: 5 constraints\n",
       "`GenericAffExpr{Float64,VariableRef}`-in-`MathOptInterface.GreaterThan{Float64}`: 6 constraints\n",
       "`GenericAffExpr{Float64,VariableRef}`-in-`MathOptInterface.LessThan{Float64}`: 17 constraints\n",
       "Model mode: AUTOMATIC\n",
       "CachingOptimizer state: EMPTY_OPTIMIZER\n",
       "Solver name: GLPK\n",
       "Names registered in the model: w, x, y, z"
      ]
     },
     "execution_count": 21,
     "metadata": {},
     "output_type": "execute_result"
    }
   ],
   "source": [
    "using GLPK, JuMP, LinearAlgebra\n",
    "m = Model(with_optimizer(GLPK.Optimizer))\n",
    "purchased = [5000 25000 40000; 10000 40000 50000]\n",
    "market = [1000 4000 8000; 1000 5000 8000]\n",
    "sqftPerLogW = zeros(2,2,2,3)\n",
    "sqftPerLogW[:,:,:,1] = cat([400 400;200 200], [200 200;100 100], dims=3)\n",
    "sqftPerLogW[:,:,:,2] = cat([700 700;500 500], [350 350;250 250], dims=3)\n",
    "sqftPerLogW[:,:,:,3] = cat([900 900;1300 1300], [450 450;650 650], dims=3)\n",
    "costPerLog = [340 190; 490 140]\n",
    "costPerSqft = [1 0.3 0.1; 2.2 0.6 0.2]\n",
    "price = [45 40 33; 75 65 50]                    # per sheet(1/4, 1/4, Ab, ac, bc)\n",
    "@variable(m, w[1:2, 1:2, 1:2] >= 0)             # w(q,v,t)(log)\n",
    "@variable(m, x[1:2, 1:3] >= 0)                  # x(t,g)(sqft)\n",
    "@variable(m, y[1:2, 1:3, 1:3] >= 0)             # y(t,g,g)(sheets)\n",
    "@variable(m, z[1:2, 1:3] >= 0)                  # z(t,g,g)(sheets)\n",
    "@constraint(m, sum(w[1,1,:]) <= 200)    # log avalability\n",
    "@constraint(m, sum(w[1,2,:]) <= 100)   \n",
    "@constraint(m, sum(w[2,1,:]) <= 300)\n",
    "@constraint(m, sum(w[2,2,:]) <= 1000)\n",
    "for i=1:2\n",
    "    for j=1:3\n",
    "        @constraint(m, x[i,j] <= purchased[i,j])# purchased constraint\n",
    "        @constraint(m, z[i,j] <= market[i,j])   # market constraint\n",
    "    end\n",
    "end\n",
    "@constraint(m, 0.25*sum(z[1,:]) + 0.4*sum(z[2,:]) <= 4500)     #pressing constraint\n",
    "\n",
    "@constraint(m, sum(sqftPerLogW[:,:,1,1].*w[:,:,1]) + x[1,1] >= 35*sum(y[1,1,1:2]))  # balance constraint\n",
    "@constraint(m, sum(sqftPerLogW[:,:,1,2].*w[:,:,1]) + x[1,2] >= 35*sum(y[1,2,1:3]))\n",
    "@constraint(m, sum(sqftPerLogW[:,:,1,3].*w[:,:,1]) + x[1,3] >= 35*sum(y[1,3,2:3]))\n",
    "\n",
    "@constraint(m, sum(sqftPerLogW[:,:,2,1].*w[:,:,2]) + x[2,1] >= 35*sum(y[2,1,1:2]))\n",
    "@constraint(m, sum(sqftPerLogW[:,:,2,2].*w[:,:,2]) + x[2,1] >= 35*sum(y[2,2,1:3]))\n",
    "@constraint(m, sum(sqftPerLogW[:,:,2,3].*w[:,:,2]) + x[2,1] >= 35*sum(y[2,3,2:3]))\n",
    "\n",
    "@constraint(m, sum(y[1,1:2,1]) == sum(z[:,1:2]))\n",
    "@constraint(m, sum(y[1,:,2]) == sum(z[:,1]) + sum(z[:,3]))\n",
    "@constraint(m, sum(y[1,2:3,3]) == sum(z[:,2:3]))\n",
    "\n",
    "# @constraint(m, sum(y[2,1:2,1]) == sum(z[:,1:2]))\n",
    "@constraint(m, sum(y[2,:,2]) == sum(z[2,:]))\n",
    "@constraint(m, sum(y[2,2:3,3]) == sum(z[1,:]) + 2*sum(z[2,:]))\n",
    "\n",
    "@objective(m, Max, -(sum(costPerLog.*w[:,:,1]) + sum(costPerLog.*w[:,:,2])) - (sum(costPerSqft.*x)) \n",
    "           + sum(price.*z))\n",
    "\n",
    "m"
   ]
  },
  {
   "cell_type": "code",
   "execution_count": 26,
   "metadata": {},
   "outputs": [
    {
     "name": "stdout",
     "output_type": "stream",
     "text": [
      "438357.1428571427\n"
     ]
    },
    {
     "ename": "MethodError",
     "evalue": "MethodError: no method matching value(::Array{UnitRange{Int64},1})\nClosest candidates are:\n  value(!Matched::NonlinearExpression) at /home/son/.julia/packages/JuMP/tyMag/src/nlp.jl:1126\n  value(!Matched::NonlinearParameter) at /home/son/.julia/packages/JuMP/tyMag/src/nlp.jl:125\n  value(!Matched::VariableRef) at /home/son/.julia/packages/JuMP/tyMag/src/variables.jl:721\n  ...",
     "output_type": "error",
     "traceback": [
      "MethodError: no method matching value(::Array{UnitRange{Int64},1})\nClosest candidates are:\n  value(!Matched::NonlinearExpression) at /home/son/.julia/packages/JuMP/tyMag/src/nlp.jl:1126\n  value(!Matched::NonlinearParameter) at /home/son/.julia/packages/JuMP/tyMag/src/nlp.jl:125\n  value(!Matched::VariableRef) at /home/son/.julia/packages/JuMP/tyMag/src/variables.jl:721\n  ...",
      "",
      "Stacktrace:",
      " [1] top-level scope at In[26]:3"
     ]
    }
   ],
   "source": [
    "optimize!(m)\n",
    "println((objective_value(m)))"
   ]
  },
  {
   "cell_type": "code",
   "execution_count": 23,
   "metadata": {},
   "outputs": [
    {
     "name": "stdout",
     "output_type": "stream",
     "text": [
      "[111.0 121.0; 211.0 221.0]\n",
      "340\n",
      "190\n",
      "490\n",
      "140\n",
      "[37740.0 22990.0; 103390.0 30940.0]\n"
     ]
    }
   ],
   "source": [
    "x = [1:2, 1:2, 1:4]\n",
    "y = zeros(Int32, 2,2,4)\n",
    "# print(y)\n",
    "y[1,2,2] = 3\n",
    "# A = [1 2; 3 4]\n",
    "A = zeros(2,2,2)\n",
    "A[:,:,1] = [111 121; 211 221]\n",
    "A[:,:,2] = [10 20; 30 40]\n",
    "println(A[:,:,1])\n",
    "z = [1:2, 1:2, 1:4]\n",
    "b = zeros(2,2,2,3)\n",
    "b[:,:,:,1] = cat([400 400;200 200], [200 200;100 100], dims=3)\n",
    "b[:,:,:,2] = cat([700 700;500 500], [350 350;250 250], dims=3)\n",
    "b[:,:,:,3] = cat([900 900;1300 1300], [450 450;650 650], dims=3)\n",
    "# println((A[:,:,1].*b[1,:,:,1]))\n",
    "# println(b[1,:,:,1])\n",
    "# println(A[:,:,1])\n",
    "# print(cat(A[:,:,1], dims=1))\n",
    "# println(b[1,1,1,1])\n",
    "# println(b[1,1,2,1])\n",
    "# println(b[1,2,1,1])\n",
    "# println(b[1,2,2,1])\n",
    "# println(b[2,1,1,1])\n",
    "# println(b[2,1,2,1])\n",
    "# println(b[2,2,1,1])\n",
    "# println(b[2,2,2,1])\n",
    "costPerLog = [340 190; 490 140]\n",
    "println(costPerLog[1,1])\n",
    "println(costPerLog[1,2])\n",
    "println(costPerLog[2,1])\n",
    "println(costPerLog[2,2])\n",
    "println(costPerLog.*A[:,:,1])"
   ]
  }
 ],
 "metadata": {
  "kernelspec": {
   "display_name": "Julia 1.0.4",
   "language": "julia",
   "name": "julia-1.0"
  },
  "language_info": {
   "file_extension": ".jl",
   "mimetype": "application/julia",
   "name": "julia",
   "version": "1.0.4"
  }
 },
 "nbformat": 4,
 "nbformat_minor": 2
}
