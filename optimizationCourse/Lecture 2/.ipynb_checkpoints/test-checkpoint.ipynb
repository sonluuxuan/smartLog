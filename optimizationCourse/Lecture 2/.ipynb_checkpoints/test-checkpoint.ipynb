{
 "cells": [
  {
   "cell_type": "code",
   "execution_count": 13,
   "metadata": {},
   "outputs": [
    {
     "name": "stdout",
     "output_type": "stream",
     "text": [
      "Int32[0 0 0 0 0 0 0; 0 0 0 0 0 0 0; 0 0 0 0 0 0 0]\n",
      "Int32[1 1 1 1 1 1 1; 1 1 1 1 1 1 1; 1 1 1 1 1 1 1]\n"
     ]
    },
    {
     "data": {
      "text/plain": [
       "3×7 Array{Int32,2}:\n",
       " 1  1  1  1  1  1  1\n",
       " 1  1  1  1  1  1  1\n",
       " 1  1  1  1  1  1  1"
      ]
     },
     "execution_count": 13,
     "metadata": {},
     "output_type": "execute_result"
    }
   ],
   "source": [
    "using LinearAlgebra, JuMP, GLPK\n",
    "x = zeros(Int32, 3,7)\n",
    "println(x)\n",
    "for i=1:3\n",
    "    for j=1:7\n",
    "        x[i,j] = 1\n",
    "    end\n",
    "end\n",
    "println(x)\n",
    "x"
   ]
  },
  {
   "cell_type": "code",
   "execution_count": 16,
   "metadata": {},
   "outputs": [
    {
     "data": {
      "text/plain": [
       "7×3 Array{Int64,2}:\n",
       " 503  140  203\n",
       " 675  100   45\n",
       " 630  105   40\n",
       " 330   40  295\n",
       " 105  460  120\n",
       " 490   55  180\n",
       " 705   60  400"
      ]
     },
     "execution_count": 16,
     "metadata": {},
     "output_type": "execute_result"
    }
   ],
   "source": [
    "p=[503 140 203; 675 100 45; 630 105 40; 330 40 295; 105 460 120; 490 55 180; 705 60 400]\n",
    "p"
   ]
  },
  {
   "cell_type": "code",
   "execution_count": 2,
   "metadata": {},
   "outputs": [
    {
     "ename": "ErrorException",
     "evalue": "syntax: unexpected semicolon in array expression",
     "output_type": "error",
     "traceback": [
      "syntax: unexpected semicolon in array expression",
      ""
     ]
    }
   ],
   "source": [
    "using GLPK, JuMP, LinearAlgebra\n",
    "m = Model(with_optimizer(GLPK.Optimizer))\n",
    "purchased = [5000, 25000, 40000; 10000, 40000, 50000]\n",
    "market = [1000, 4000, 8000; 1000, 5000, 8000]\n",
    "sqftPerLogW = zeros(2,2,2,3)\n",
    "sqftPerLogW[:,:,:,1] = cat([400 400;200 200], [200 200;100 100], dims=3)\n",
    "sqftPerLogW[:,:,:,2] = cat([700 700;500 500], [350 350;250 250], dims=3)\n",
    "sqftPerLogW[:,:,:,3] = cat([900 900;1300 1300], [450 450;650 650], dims=3)\n",
    "@variable(m, w[1:2, 1:2, 1:2] >= 0)             # w(q,v,t)(log)\n",
    "@variable(m, x[1:2, 1:3] >= 0)                  # x(t,g)(sqft)\n",
    "@variable(m, y[1:2, 1:3, 1:3] >= 0)             # y(t,g,g)(sheets)\n",
    "@variable(m, z[1:2, 1:3] >= 0)                  # z(t,g,g)(sheets)\n",
    "@constraint(m, w[[1,1,1] + w[1,1,2] <= 200])    # log avalability\n",
    "@constraint(m, w[[1,2,1] + w[1,2,2] <= 100])   \n",
    "@constraint(m, w[[2,1,1] + w[2,1,2] <= 300])\n",
    "@constraint(m, w[[2,2,1] + w[2,2,2] <= 1000])\n",
    "for i=1:2\n",
    "    for j=1:3\n",
    "        @constraint(m, x[i,j] == purchased[i,j])# purchased constraint\n",
    "        @constraint(m, z[i,j] == market[i,j])   # market constraint\n",
    "    end\n",
    "end\n",
    "@constraint(m, 0.25*sum(z[1:]) + 0.4*sum(z[2:]) <= 4500)#pressing constraint\n",
    "@constraint(m, 400*sum(w[1,:,1]) + 200*sum(w[2,:,1] + x[1,1] >= 35*y))\n",
    "@constraint(m, )"
   ]
  },
  {
   "cell_type": "code",
   "execution_count": 27,
   "metadata": {},
   "outputs": [
    {
     "name": "stdout",
     "output_type": "stream",
     "text": [
      "[400.0 400.0; 1200.0 800.0]\n",
      "[400.0 200.0; 400.0 200.0]\n",
      "[1.0 2.0; 3.0 4.0]\n",
      "[1.0 2.0; 3.0 4.0]400.0\n",
      "200.0\n",
      "400.0\n",
      "200.0\n",
      "200.0\n",
      "100.0\n",
      "200.0\n",
      "100.0\n"
     ]
    }
   ],
   "source": [
    "x = [1:2, 1:2, 1:4]\n",
    "y = zeros(Int32, 2,2,4)\n",
    "# print(y)\n",
    "y[1,2,2] = 3\n",
    "# A = [1 2; 3 4]\n",
    "A = zeros(2,2,2)\n",
    "A[:,:,1] = [1 2; 3 4]\n",
    "A[:,:,2] = [10 20; 30 40]\n",
    "z = [1:2, 1:2, 1:4]\n",
    "b = zeros(2,2,2,3)\n",
    "b[:,:,:,1] = cat([400 400;200 200], [200 200;100 100], dims=3)\n",
    "b[:,:,:,2] = cat([700 700;500 500], [350 350;250 250], dims=3)\n",
    "b[:,:,:,3] = cat([900 900;1300 1300], [450 450;650 650], dims=3)\n",
    "println((A[:,:,1].*b[1,:,:,1]))\n",
    "println(b[1,:,:,1])\n",
    "println(A[:,:,1])\n",
    "print(cat(A[:,:,1], dims=1))\n",
    "println(b[1,1,1,1])\n",
    "println(b[1,1,2,1])\n",
    "println(b[1,2,1,1])\n",
    "println(b[1,2,2,1])\n",
    "println(b[2,1,1,1])\n",
    "println(b[2,1,2,1])\n",
    "println(b[2,2,1,1])\n",
    "println(b[2,2,2,1])"
   ]
  }
 ],
 "metadata": {
  "kernelspec": {
   "display_name": "Julia 1.0.4",
   "language": "julia",
   "name": "julia-1.0"
  },
  "language_info": {
   "file_extension": ".jl",
   "mimetype": "application/julia",
   "name": "julia",
   "version": "1.0.4"
  }
 },
 "nbformat": 4,
 "nbformat_minor": 2
}
